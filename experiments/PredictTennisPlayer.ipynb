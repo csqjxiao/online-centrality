{
 "cells": [
  {
   "cell_type": "code",
   "execution_count": null,
   "metadata": {},
   "outputs": [],
   "source": [
    "%load_ext autoreload\n",
    "%autoreload 2"
   ]
  },
  {
   "cell_type": "code",
   "execution_count": null,
   "metadata": {},
   "outputs": [],
   "source": [
    "%matplotlib inline"
   ]
  },
  {
   "cell_type": "code",
   "execution_count": null,
   "metadata": {},
   "outputs": [],
   "source": [
    "from IPython.core.display import HTML\n",
    "HTML(\"<style>.container { width:100% !important; }</style>\")"
   ]
  },
  {
   "cell_type": "code",
   "execution_count": null,
   "metadata": {},
   "outputs": [],
   "source": [
    "import sys, os\n",
    "import seaborn as sns"
   ]
  },
  {
   "cell_type": "code",
   "execution_count": null,
   "metadata": {},
   "outputs": [],
   "source": [
    "sys.path.append('../python/')\n",
    "import experiment_utils.player_prediction_visualization as ppv\n",
    "import experiment_utils.player_prediction_performance as ppp\n",
    "from data_processing.tennis_player_processing import load_dataset_parameters"
   ]
  },
  {
   "cell_type": "markdown",
   "metadata": {},
   "source": [
    "# 1. Set parameters"
   ]
  },
  {
   "cell_type": "markdown",
   "metadata": {},
   "source": [
    "## a.) Choose dataset"
   ]
  },
  {
   "cell_type": "code",
   "execution_count": null,
   "metadata": {},
   "outputs": [],
   "source": [
    "dataset_id = \"rg17\"\n",
    "#dataset_id = \"uo17\""
   ]
  },
  {
   "cell_type": "code",
   "execution_count": null,
   "metadata": {},
   "outputs": [],
   "source": [
    "min_epoch, num_of_days, dates, missing_dates, _, _ = load_dataset_parameters(dataset_id)"
   ]
  },
  {
   "cell_type": "markdown",
   "metadata": {},
   "source": [
    "## b.) Select centrality measures (with configuration) to evaluate"
   ]
  },
  {
   "cell_type": "code",
   "execution_count": null,
   "metadata": {},
   "outputs": [],
   "source": [
    "score_folders = [\n",
    "    \"tk_b1.00_Exp(b:0.500,n:7200.000)\",\n",
    "    \"ttk_b1.00_Exp(b:0.500,n:7200.000)_length_limit_2\",\n",
    "    \"tpr_a0.85_b0.50\",\n",
    "    \"hc_snapshot_10\",\n",
    "    \"indeg_snapshot_10\",\n",
    "    \"nbm_snapshot_10\",\n",
    "    \"spr_snapshot_10_a0.85_i100\",\n",
    "    \"did_Exp(b:0.500,n:7200.000)\"\n",
    "]\n",
    "print(score_folders)"
   ]
  },
  {
   "cell_type": "markdown",
   "metadata": {},
   "source": [
    "## c.) Other parameters\n"
   ]
  },
  {
   "cell_type": "code",
   "execution_count": null,
   "metadata": {},
   "outputs": [],
   "source": [
    "N_THREADS = 1\n",
    "lookback_size = 24\n",
    "first_snapshot = -24\n",
    "last_snapshot = 0\n",
    "use_binary_labels = True\n",
    "num_of_intervals = num_of_days*24\n",
    "root_dir = \"../results/%s/predict_tennis_players_experiment/\" % dataset_id\n",
    "dir_postfix = \"_binary%s\" % use_binary_labels\n",
    "experiment_path = root_dir\n",
    "tennis_players_source_path = root_dir + \"/tennis_player_labels%s/\" % dir_postfix\n",
    "sim_res_folder = root_dir + \"/metrics%s\" % dir_postfix\n",
    "experiment_path = sim_res_folder + \"/tennis_player_labels%s_tmp\" % dir_postfix\n",
    "prediction_path = \"../data/%s_data/centrality_measures/original/\" % dataset_id\n",
    "img_dir = sim_res_folder + \"/img_from%i_to%i\" % (first_snapshot, last_snapshot)"
   ]
  },
  {
   "cell_type": "code",
   "execution_count": null,
   "metadata": {},
   "outputs": [],
   "source": [
    "print(tennis_players_source_path,experiment_path,prediction_path)"
   ]
  },
  {
   "cell_type": "code",
   "execution_count": null,
   "metadata": {},
   "outputs": [],
   "source": [
    "for p in (root_dir, sim_res_folder, img_dir):\n",
    "    if not os.path.exists(p):\n",
    "        os.makedirs(p)\n",
    "        print(\"Directory was created: %s\" % p)"
   ]
  },
  {
   "cell_type": "markdown",
   "metadata": {},
   "source": [
    "# 2. Normalized Discounted Cumulative Gain (NDCG)"
   ]
  },
  {
   "cell_type": "code",
   "execution_count": null,
   "metadata": {},
   "outputs": [],
   "source": [
    "metric_id = \"ndcg@50\""
   ]
  },
  {
   "cell_type": "markdown",
   "metadata": {},
   "source": [
    "## i.) Adjust labels for lookback"
   ]
  },
  {
   "cell_type": "code",
   "execution_count": null,
   "metadata": {},
   "outputs": [],
   "source": [
    "interval_bounds = ppp.get_interval_bounds(num_of_days, lookback_size)"
   ]
  },
  {
   "cell_type": "code",
   "execution_count": null,
   "metadata": {},
   "outputs": [],
   "source": [
    "ppp.duplicate_label_files(experiment_path, tennis_players_source_path, interval_bounds)"
   ]
  },
  {
   "cell_type": "markdown",
   "metadata": {},
   "source": [
    "## ii.) Calculate NDCG"
   ]
  },
  {
   "cell_type": "code",
   "execution_count": null,
   "metadata": {},
   "outputs": [],
   "source": [
    "prediction_results = {}\n",
    "paths = [experiment_path, prediction_path]"
   ]
  },
  {
   "cell_type": "markdown",
   "metadata": {},
   "source": [
    "### Temporal Katz centrality"
   ]
  },
  {
   "cell_type": "code",
   "execution_count": null,
   "metadata": {
    "scrolled": true
   },
   "outputs": [],
   "source": [
    "%%time\n",
    "ppp.calculate_metrics_for_prediction(prediction_results, \"tk\", metric_id, score_folders, interval_bounds, paths, sim_res_folder, n_threads=N_THREADS)"
   ]
  },
  {
   "cell_type": "markdown",
   "metadata": {},
   "source": [
    "### Truncated Temporal Katz centrality"
   ]
  },
  {
   "cell_type": "code",
   "execution_count": null,
   "metadata": {
    "scrolled": true
   },
   "outputs": [],
   "source": [
    "%%time\n",
    "ppp.calculate_metrics_for_prediction(prediction_results, \"ttk\", metric_id, score_folders, interval_bounds, paths, sim_res_folder, n_threads=N_THREADS)"
   ]
  },
  {
   "cell_type": "markdown",
   "metadata": {},
   "source": [
    "### Decayed Indegree"
   ]
  },
  {
   "cell_type": "code",
   "execution_count": null,
   "metadata": {},
   "outputs": [],
   "source": [
    "%%time\n",
    "ppp.calculate_metrics_for_prediction(prediction_results, \"did\", metric_id, score_folders, interval_bounds, paths, sim_res_folder, n_threads=N_THREADS)"
   ]
  },
  {
   "cell_type": "markdown",
   "metadata": {},
   "source": [
    "### Temporal PageRank"
   ]
  },
  {
   "cell_type": "code",
   "execution_count": null,
   "metadata": {},
   "outputs": [],
   "source": [
    "%%time\n",
    "ppp.calculate_metrics_for_prediction(prediction_results, \"tpr\", metric_id, score_folders, interval_bounds, paths, sim_res_folder, n_threads=N_THREADS)"
   ]
  },
  {
   "cell_type": "markdown",
   "metadata": {},
   "source": [
    "### Static PageRank"
   ]
  },
  {
   "cell_type": "code",
   "execution_count": null,
   "metadata": {},
   "outputs": [],
   "source": [
    "%%time\n",
    "ppp.calculate_metrics_for_prediction(prediction_results, \"spr\", metric_id, score_folders, interval_bounds, paths, sim_res_folder, n_threads=N_THREADS)"
   ]
  },
  {
   "cell_type": "markdown",
   "metadata": {},
   "source": [
    "### Static Indegree"
   ]
  },
  {
   "cell_type": "code",
   "execution_count": null,
   "metadata": {},
   "outputs": [],
   "source": [
    "%%time\n",
    "ppp.calculate_metrics_for_prediction(prediction_results, \"indeg\", metric_id, score_folders, interval_bounds, paths, sim_res_folder, n_threads=N_THREADS)"
   ]
  },
  {
   "cell_type": "markdown",
   "metadata": {},
   "source": [
    "### Static Negative beta-measure"
   ]
  },
  {
   "cell_type": "code",
   "execution_count": null,
   "metadata": {},
   "outputs": [],
   "source": [
    "%%time\n",
    "ppp.calculate_metrics_for_prediction(prediction_results, \"nbm\", metric_id, score_folders, interval_bounds, paths, sim_res_folder, n_threads=N_THREADS)"
   ]
  },
  {
   "cell_type": "markdown",
   "metadata": {},
   "source": [
    "### Static Harmonic centrality"
   ]
  },
  {
   "cell_type": "code",
   "execution_count": null,
   "metadata": {},
   "outputs": [],
   "source": [
    "%%time\n",
    "ppp.calculate_metrics_for_prediction(prediction_results, \"hc\", metric_id, score_folders, interval_bounds, paths, sim_res_folder, n_threads=N_THREADS)"
   ]
  },
  {
   "cell_type": "markdown",
   "metadata": {},
   "source": [
    "# 3. Visualization"
   ]
  },
  {
   "cell_type": "markdown",
   "metadata": {},
   "source": [
    "#### Setting custom color palette"
   ]
  },
  {
   "cell_type": "code",
   "execution_count": null,
   "metadata": {},
   "outputs": [],
   "source": [
    "paper_rc = {'lines.linewidth': 5,'lines.markersize': 20}    \n",
    "sns.set_context(\"paper\", rc = paper_rc, font_scale = 4.25)\n",
    "sns.set_style(\"whitegrid\")\n",
    "custom_palette = sns.color_palette(\"Set2\", 8)\n",
    "m_palette = sns.color_palette(['#5cd65c','#ff6666','#ff944d'])\n",
    "custom_palette = m_palette + custom_palette\n",
    "sns.set_palette(m_palette + custom_palette)"
   ]
  },
  {
   "cell_type": "markdown",
   "metadata": {},
   "source": [
    "## i.) Select subset of days for evaluation"
   ]
  },
  {
   "cell_type": "code",
   "execution_count": null,
   "metadata": {},
   "outputs": [],
   "source": [
    "if dataset_id == \"rg17\":\n",
    "    day_indexes = list(range(4,num_of_days)) # from 2017-05-28 to 2017-06-11\n",
    "elif dataset_id == \"uo17\":\n",
    "    day_indexes = list(range(7,num_of_days)) # from 2017-08-28 to 2017-09-10\n",
    "else:\n",
    "    raise RuntimeError(\"Invalid 'dataset_id'!\")\n",
    "dates = [dates[i] for i in day_indexes]\n",
    "print(day_indexes)\n",
    "print(dates)"
   ]
  },
  {
   "cell_type": "markdown",
   "metadata": {},
   "source": [
    "## ii.) Mean hourly NDCG (over the days)"
   ]
  },
  {
   "cell_type": "code",
   "execution_count": null,
   "metadata": {
    "scrolled": false
   },
   "outputs": [],
   "source": [
    "ppv.visu_mean_behaviour(prediction_results, score_folders, day_indexes, first_snapshot, last_snapshot, \"mixed\", metric_id.upper(), img_dir, custom_palette)"
   ]
  },
  {
   "cell_type": "markdown",
   "metadata": {},
   "source": [
    "## iii.) NDCG timeseries for every day"
   ]
  },
  {
   "cell_type": "code",
   "execution_count": null,
   "metadata": {},
   "outputs": [],
   "source": [
    "paper_rc = {'lines.linewidth': 3,'lines.markersize': 10}              \n",
    "sns.set_context(\"paper\", rc = paper_rc, font_scale = 3)\n",
    "sns.set_style(\"whitegrid\")"
   ]
  },
  {
   "cell_type": "code",
   "execution_count": null,
   "metadata": {
    "scrolled": false
   },
   "outputs": [],
   "source": [
    "ppv.visu_pred_perf_per_day(prediction_results, score_folders, interval_bounds, day_indexes, dates, metric_id.upper(), img_dir)"
   ]
  }
 ],
 "metadata": {
  "anaconda-cloud": {},
  "kernelspec": {
   "display_name": "Python [conda env:dm-env]",
   "language": "python",
   "name": "conda-env-dm-env-py"
  },
  "language_info": {
   "codemirror_mode": {
    "name": "ipython",
    "version": 2
   },
   "file_extension": ".py",
   "mimetype": "text/x-python",
   "name": "python",
   "nbconvert_exporter": "python",
   "pygments_lexer": "ipython2",
   "version": "2.7.14"
  }
 },
 "nbformat": 4,
 "nbformat_minor": 1
}
