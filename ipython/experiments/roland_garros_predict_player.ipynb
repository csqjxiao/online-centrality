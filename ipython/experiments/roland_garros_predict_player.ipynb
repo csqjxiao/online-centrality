{
 "cells": [
  {
   "cell_type": "code",
   "execution_count": null,
   "metadata": {},
   "outputs": [],
   "source": [
    "from IPython.core.display import HTML\n",
    "HTML(\"<style>.container { width:100% !important; }</style>\")"
   ]
  },
  {
   "cell_type": "code",
   "execution_count": null,
   "metadata": {
    "collapsed": true,
    "scrolled": true
   },
   "outputs": [],
   "source": [
    "import sys\n",
    "sys.path.insert(0,\"../../python/\")\n",
    "from parametrization import ParamHelper"
   ]
  },
  {
   "cell_type": "code",
   "execution_count": null,
   "metadata": {
    "collapsed": true
   },
   "outputs": [],
   "source": [
    "import os, shutil\n",
    "import numpy as np\n",
    "import pandas as pd"
   ]
  },
  {
   "cell_type": "code",
   "execution_count": null,
   "metadata": {
    "collapsed": true
   },
   "outputs": [],
   "source": [
    "import prediction_utils.rg_prediction_sim as rgps\n",
    "import prediction_utils.rg_prediction_visu as rgpv"
   ]
  },
  {
   "cell_type": "code",
   "execution_count": null,
   "metadata": {
    "collapsed": true
   },
   "outputs": [],
   "source": [
    "%matplotlib inline\n",
    "import seaborn as sns\n",
    "import matplotlib.pyplot as plt"
   ]
  },
  {
   "cell_type": "code",
   "execution_count": null,
   "metadata": {
    "collapsed": true
   },
   "outputs": [],
   "source": [
    "paper_rc = {'lines.linewidth': 5,'lines.markersize': 20}              \n",
    "sns.set_context(\"paper\", rc = paper_rc, font_scale = 4.25)\n",
    "sns.set_style(\"whitegrid\")"
   ]
  },
  {
   "cell_type": "code",
   "execution_count": null,
   "metadata": {
    "collapsed": true
   },
   "outputs": [],
   "source": [
    "custom_palette = sns.color_palette(\"Set2\", 8)\n",
    "m_palette = sns.color_palette(['#5cd65c','#ff6666','#ff944d'])\n",
    "custom_palette = m_palette + custom_palette\n",
    "sns.set_palette(m_palette + custom_palette)"
   ]
  },
  {
   "cell_type": "markdown",
   "metadata": {},
   "source": [
    "# 1. Load experiment parameters"
   ]
  },
  {
   "cell_type": "code",
   "execution_count": null,
   "metadata": {},
   "outputs": [],
   "source": [
    "ph = ParamHelper(\"../../pipelines/Evaluation.json\", \"ipython/experiments/roland_garros_predict_player.ipynb\")"
   ]
  },
  {
   "cell_type": "code",
   "execution_count": null,
   "metadata": {},
   "outputs": [],
   "source": [
    "rg_root_dir = ph.get(\"rg_root_dir\")\n",
    "img_dir = ph.get(\"img_dir\")\n",
    "experiment_path = rg_root_dir + \"/daily_in_advance/\"\n",
    "img_prefix = \"%s/img/\" % experiment_path\n",
    "tennis_players_source_path =  ph.get(\"tennis_players_source_path\")\n",
    "original_experiment_path = experiment_path + \"/tennis_players_copied\"\n",
    "prediction_experiment_path = \"../../data/centrality_scores/rg17_epoch_t457_d3600/original/\"\n",
    "lookback_size = 30\n",
    "num_of_days = 19\n",
    "num_of_intervals = num_of_days*24\n",
    "N_THREADS = ph.get(\"num_of_threads\")"
   ]
  },
  {
   "cell_type": "code",
   "execution_count": null,
   "metadata": {},
   "outputs": [],
   "source": [
    "print(tennis_players_source_path,original_experiment_path,prediction_experiment_path)"
   ]
  },
  {
   "cell_type": "markdown",
   "metadata": {},
   "source": [
    "### Load included nodes (account of professional tennis players)"
   ]
  },
  {
   "cell_type": "code",
   "execution_count": null,
   "metadata": {},
   "outputs": [],
   "source": [
    "included_accounts = list(np.recfromtxt(\"../../data/preprocessed/recoded_player_accounts.txt\"))\n",
    "sim_res_folder = experiment_path + \"similarity_metrics/\""
   ]
  },
  {
   "cell_type": "code",
   "execution_count": null,
   "metadata": {},
   "outputs": [],
   "source": [
    "for p in (experiment_path, sim_res_folder):\n",
    "    if not os.path.exists(p):\n",
    "        os.makedirs(p)\n",
    "        print(\"Directory was created: %s\" % p)"
   ]
  },
  {
   "cell_type": "markdown",
   "metadata": {},
   "source": [
    "### Set other parameters for similarity computation"
   ]
  },
  {
   "cell_type": "code",
   "execution_count": null,
   "metadata": {},
   "outputs": [],
   "source": [
    "norm_factors = ph.get(\"norm_factor\")\n",
    "static_lookbacks = ph.get(\"static_lookbacks\")"
   ]
  },
  {
   "cell_type": "code",
   "execution_count": null,
   "metadata": {},
   "outputs": [],
   "source": [
    "score_folders = ph.get(\"score_folders\")\n",
    "print(score_folders)"
   ]
  },
  {
   "cell_type": "code",
   "execution_count": null,
   "metadata": {},
   "outputs": [],
   "source": [
    "intervals = range(0,num_of_intervals)\n",
    "days = range(0,num_of_days)\n",
    "print num_of_intervals, num_of_days"
   ]
  },
  {
   "cell_type": "markdown",
   "metadata": {},
   "source": [
    "### Copy tennis player score files to all directory"
   ]
  },
  {
   "cell_type": "code",
   "execution_count": null,
   "metadata": {
    "collapsed": true
   },
   "outputs": [],
   "source": [
    "def get_interval_bounds(lookback_size=2*24):\n",
    "    interval_bounds = []\n",
    "    for day_idx in days:\n",
    "        upper_bound = (day_idx+1)*24\n",
    "        lower_bound = upper_bound - lookback_size\n",
    "        interval_subset = [max(0,lower_bound),upper_bound]\n",
    "        interval_bounds += [(day_idx,interval_subset)]\n",
    "    return interval_bounds\n",
    "\n",
    "def duplicate_label_files(interval_bounds):\n",
    "    for day_idx, bounds in interval_bounds:\n",
    "        target_folder = \"%s/%i\" % (original_experiment_path, day_idx)\n",
    "        if not os.path.exists(target_folder):\n",
    "            os.makedirs(target_folder)\n",
    "            full_src_file = \"%s/players_%i.csv\" % (tennis_players_source_path, day_idx)\n",
    "            for i in range(bounds[0],bounds[1]):\n",
    "                dest = \"%s/players_%i.csv\" % (target_folder, i)\n",
    "                shutil.copy(full_src_file, dest)\n",
    "            print(\"Labels for the %ith day were duplicated!\" % day_idx)"
   ]
  },
  {
   "cell_type": "code",
   "execution_count": null,
   "metadata": {
    "collapsed": true
   },
   "outputs": [],
   "source": [
    "interval_bounds = get_interval_bounds(lookback_size)"
   ]
  },
  {
   "cell_type": "code",
   "execution_count": null,
   "metadata": {},
   "outputs": [],
   "source": [
    "duplicate_label_files(interval_bounds)"
   ]
  },
  {
   "cell_type": "markdown",
   "metadata": {},
   "source": [
    "# 2. Calculate similarity metrics"
   ]
  },
  {
   "cell_type": "code",
   "execution_count": null,
   "metadata": {
    "collapsed": true
   },
   "outputs": [],
   "source": [
    "metric_id = \"ndcg\""
   ]
  },
  {
   "cell_type": "code",
   "execution_count": null,
   "metadata": {
    "collapsed": true
   },
   "outputs": [],
   "source": [
    "prediction_results, score_stat_results = {}, {}"
   ]
  },
  {
   "cell_type": "code",
   "execution_count": null,
   "metadata": {
    "collapsed": true
   },
   "outputs": [],
   "source": [
    "experiment_paths = [original_experiment_path, prediction_experiment_path]"
   ]
  },
  {
   "cell_type": "markdown",
   "metadata": {},
   "source": [
    "## OnlineRank"
   ]
  },
  {
   "cell_type": "code",
   "execution_count": null,
   "metadata": {
    "collapsed": true
   },
   "outputs": [],
   "source": [
    "olr_filters = None"
   ]
  },
  {
   "cell_type": "code",
   "execution_count": null,
   "metadata": {
    "scrolled": false
   },
   "outputs": [],
   "source": [
    "%%time\n",
    "rgps.calculate_metrics_for_prediction(prediction_results, \"olr\", metric_id, score_folders, interval_bounds, experiment_paths, sim_res_folder, filter_keys=olr_filters, restricted_indices=included_accounts, n_threads=N_THREADS)"
   ]
  },
  {
   "cell_type": "markdown",
   "metadata": {},
   "source": [
    "## Temporal PageRank"
   ]
  },
  {
   "cell_type": "code",
   "execution_count": null,
   "metadata": {},
   "outputs": [],
   "source": [
    "%%time\n",
    "rgps.calculate_metrics_for_prediction(prediction_results, \"tpr\", metric_id, score_folders, interval_bounds, experiment_paths, sim_res_folder, restricted_indices=included_accounts, n_threads=N_THREADS)"
   ]
  },
  {
   "cell_type": "markdown",
   "metadata": {},
   "source": [
    "## Static PageRank"
   ]
  },
  {
   "cell_type": "code",
   "execution_count": null,
   "metadata": {},
   "outputs": [],
   "source": [
    "%%time\n",
    "rgps.calculate_metrics_for_prediction(prediction_results, \"spr\", metric_id, score_folders, interval_bounds, experiment_paths, sim_res_folder, restricted_indices=included_accounts, n_threads=N_THREADS)"
   ]
  },
  {
   "cell_type": "markdown",
   "metadata": {},
   "source": [
    "## Static Indegree"
   ]
  },
  {
   "cell_type": "code",
   "execution_count": null,
   "metadata": {},
   "outputs": [],
   "source": [
    "%%time\n",
    "rgps.calculate_metrics_for_prediction(prediction_results, \"indeg\", metric_id, score_folders, interval_bounds, experiment_paths, sim_res_folder, restricted_indices=included_accounts, n_threads=N_THREADS)"
   ]
  },
  {
   "cell_type": "markdown",
   "metadata": {},
   "source": [
    "## Static Negative beta-measure"
   ]
  },
  {
   "cell_type": "code",
   "execution_count": null,
   "metadata": {},
   "outputs": [],
   "source": [
    "%%time\n",
    "rgps.calculate_metrics_for_prediction(prediction_results, \"nbm\", metric_id, score_folders, interval_bounds, experiment_paths, sim_res_folder, restricted_indices=included_accounts, n_threads=N_THREADS)"
   ]
  },
  {
   "cell_type": "markdown",
   "metadata": {},
   "source": [
    "## Static Harmonic centrality"
   ]
  },
  {
   "cell_type": "code",
   "execution_count": null,
   "metadata": {},
   "outputs": [],
   "source": [
    "%%time\n",
    "rgps.calculate_metrics_for_prediction(prediction_results, \"hc\", metric_id, score_folders, interval_bounds, experiment_paths, sim_res_folder, restricted_indices=included_accounts, n_threads=N_THREADS)"
   ]
  },
  {
   "cell_type": "markdown",
   "metadata": {},
   "source": [
    "# 3. Visualization"
   ]
  },
  {
   "cell_type": "code",
   "execution_count": null,
   "metadata": {
    "collapsed": true
   },
   "outputs": [],
   "source": [
    "markers = [\"s\",\"*\",\"o\",\"^\",\"v\",\">\",\"D\",]\n",
    "\n",
    "def pred_perf_plot(score_visu_list,day_idx):\n",
    "    l_bound, u_bound = interval_bounds[day_idx][1][0], interval_bounds[day_idx][1][1]\n",
    "    x = range(0,u_bound-l_bound)\n",
    "    visu_args = []\n",
    "    for i,score in enumerate(score_visu_list):\n",
    "        score_pref = score.split(\"_\")[0]\n",
    "        m = markers[i % len(markers)]\n",
    "        y = prediction_results[score_pref][day_idx][score]\n",
    "        visu_args += [x,y,\"%s-\" % m]\n",
    "    res = plt.plot(*visu_args)\n",
    "    x_ticks = list(reversed(-np.array(range(0,len(y)+1,5))))\n",
    "    plt.xticks(range(0,u_bound-l_bound,5),x_ticks)\n",
    "    return res\n",
    "    \n",
    "def visu_pred_perf_per_day(score_visu_list, day_index_bounds):\n",
    "    days = range(day_index_bounds[0],day_index_bounds[1])\n",
    "    #print(days)\n",
    "    num_plots = len(days)\n",
    "    n_rows, n_cols = num_plots // 2 + 1, 2\n",
    "    print(n_rows, n_cols, num_plots)\n",
    "    fig = plt.figure(figsize=(n_cols*10,n_rows*5))\n",
    "    lines = None\n",
    "    for i in range(num_plots):\n",
    "        plt.subplot(n_rows,n_cols,i+1)\n",
    "        lines = pred_perf_plot(score_visu_list,days[i])\n",
    "        plt.ylim((0.0,1.0))\n",
    "        plt.ylabel(metric_id)\n",
    "        plt.title(dates[i])\n",
    "    detailed_relabel = ph.get(\"is_detailed_relabel\")\n",
    "    fig.legend(lines,tuple([rgpv.relabel(score,detailed_relabel) for score in score_visu_list]),(0.55,0.065))\n",
    "    plt.savefig(\"%s/%s/detailed.png\" % (img_prefix,img_dir))\n",
    "    \n",
    "def visu_mean_behaviour(visu_index_list,day_index_bounds,pref=\"mixed\",metric=metric_id, title_text=\"\"):\n",
    "    time_series = []\n",
    "    for score in visu_index_list:\n",
    "        if pref != \"mixed\" and pref not in score:\n",
    "            continue\n",
    "        score_pref = score.split(\"_\")[0]\n",
    "        for day_idx in days:\n",
    "            perf_values = prediction_results[score_pref][day_idx][score]\n",
    "            interval_idx = list(reversed(-np.array(range(1,len(perf_values)+1))))\n",
    "            time_series += list(zip([score for i in interval_idx],[day_idx for i in interval_idx],interval_idx,perf_values))\n",
    "    if len(time_series) > 0:\n",
    "        time_series_df = pd.DataFrame(time_series,columns=[\"score\",\"day\",\"snapshot\",metric])\n",
    "        detailed_relabel = False#ph.get(\"is_detailed_relabel\")\n",
    "        time_series_df[\"score\"] = time_series_df[\"score\"].apply(lambda x: rgpv.relabel(x,detailed_relabel))\n",
    "        print(len(time_series_df))\n",
    "        time_series_df = time_series_df[(time_series_df[\"day\"] >= day_index_bounds[0]) & (time_series_df[\"day\"] <= day_index_bounds[1])]\n",
    "        print(len(time_series_df))\n",
    "        plt.figure(figsize=(22,14))\n",
    "        score_vals = time_series_df[\"score\"].unique()\n",
    "        for i,val in enumerate(score_vals):\n",
    "            c, m = custom_palette[i % len(custom_palette)], markers[i % len(markers)]\n",
    "            sns.tsplot(data=time_series_df[time_series_df[\"score\"]==val], time=\"snapshot\", unit=\"day\", condition=\"score\", value=metric, ci=95, color=c, marker=m)\n",
    "        dir_name = img_prefix + \"/\" + img_dir\n",
    "        if not os.path.exists(dir_name):\n",
    "            os.makedirs(dir_name)\n",
    "        plt.savefig(\"%s/mean_%s_perf.png\" % (dir_name,pref))\n",
    "    else:\n",
    "        print(\"No data to visualize!\")"
   ]
  },
  {
   "cell_type": "markdown",
   "metadata": {},
   "source": [
    "## Select subset of days for evaluation"
   ]
  },
  {
   "cell_type": "code",
   "execution_count": null,
   "metadata": {
    "collapsed": true
   },
   "outputs": [],
   "source": [
    "first_day_idx = 4 # 2017-05-28\n",
    "last_day_index = num_of_days # 2017-06-11\n",
    "day_index_bounds = (first_day_idx,last_day_index)"
   ]
  },
  {
   "cell_type": "code",
   "execution_count": null,
   "metadata": {},
   "outputs": [],
   "source": [
    "dates = [\"2017-05-%.2i\" % i for i in range(24,32)]\n",
    "dates += [\"2017-06-%.2i\" % i for i in range(1,12)]\n",
    "dates = dates[first_day_idx:last_day_index]\n",
    "dates"
   ]
  },
  {
   "cell_type": "markdown",
   "metadata": {},
   "source": [
    "## OnlineRank"
   ]
  },
  {
   "cell_type": "code",
   "execution_count": null,
   "metadata": {},
   "outputs": [],
   "source": [
    "try:\n",
    "    title_text = ph.get(\"title_text\")\n",
    "except:\n",
    "    title_text = \"\"\n",
    "visu_mean_behaviour(score_folders, day_index_bounds, pref=\"olr\", title_text=title_text)"
   ]
  },
  {
   "cell_type": "markdown",
   "metadata": {},
   "source": [
    "## Temporal PageRank"
   ]
  },
  {
   "cell_type": "code",
   "execution_count": null,
   "metadata": {},
   "outputs": [],
   "source": [
    "visu_mean_behaviour(score_folders, day_index_bounds, pref=\"tpr\")"
   ]
  },
  {
   "cell_type": "markdown",
   "metadata": {},
   "source": [
    "## PageRank"
   ]
  },
  {
   "cell_type": "code",
   "execution_count": null,
   "metadata": {
    "scrolled": true
   },
   "outputs": [],
   "source": [
    "visu_mean_behaviour(score_folders, day_index_bounds, pref=\"spr\", title_text=\"of Static PageRank models\")"
   ]
  },
  {
   "cell_type": "markdown",
   "metadata": {},
   "source": [
    "## Indegree"
   ]
  },
  {
   "cell_type": "code",
   "execution_count": null,
   "metadata": {
    "scrolled": true
   },
   "outputs": [],
   "source": [
    "visu_mean_behaviour(score_folders, day_index_bounds, pref=\"indeg\", title_text=\"of Static Indegree models\")"
   ]
  },
  {
   "cell_type": "markdown",
   "metadata": {},
   "source": [
    "## Negative beta_measure"
   ]
  },
  {
   "cell_type": "code",
   "execution_count": null,
   "metadata": {
    "scrolled": true
   },
   "outputs": [],
   "source": [
    "visu_mean_behaviour(score_folders, day_index_bounds, pref=\"nbm\", title_text=\"of Static Negative beta-measure models\")"
   ]
  },
  {
   "cell_type": "markdown",
   "metadata": {},
   "source": [
    "## Indegree"
   ]
  },
  {
   "cell_type": "code",
   "execution_count": null,
   "metadata": {
    "scrolled": true
   },
   "outputs": [],
   "source": [
    "visu_mean_behaviour(score_folders, day_index_bounds, pref=\"hc\", title_text=\"of Static Harmonic centrality models\")"
   ]
  },
  {
   "cell_type": "markdown",
   "metadata": {},
   "source": [
    "## Mixed"
   ]
  },
  {
   "cell_type": "code",
   "execution_count": null,
   "metadata": {},
   "outputs": [],
   "source": [
    "visu_mean_behaviour(score_folders, day_index_bounds)"
   ]
  },
  {
   "cell_type": "markdown",
   "metadata": {},
   "source": [
    "### By Day"
   ]
  },
  {
   "cell_type": "code",
   "execution_count": null,
   "metadata": {
    "collapsed": true
   },
   "outputs": [],
   "source": [
    "paper_rc = {'lines.linewidth': 3,'lines.markersize': 10}              \n",
    "sns.set_context(\"paper\", rc = paper_rc, font_scale = 3)\n",
    "sns.set_style(\"whitegrid\")"
   ]
  },
  {
   "cell_type": "code",
   "execution_count": null,
   "metadata": {
    "scrolled": false
   },
   "outputs": [],
   "source": [
    "visu_pred_perf_per_day(score_folders, day_index_bounds)"
   ]
  },
  {
   "cell_type": "code",
   "execution_count": null,
   "metadata": {
    "collapsed": true
   },
   "outputs": [],
   "source": []
  }
 ],
 "metadata": {
  "anaconda-cloud": {},
  "kernelspec": {
   "display_name": "Python [conda env:dm-env]",
   "language": "python",
   "name": "conda-env-dm-env-py"
  },
  "language_info": {
   "codemirror_mode": {
    "name": "ipython",
    "version": 2
   },
   "file_extension": ".py",
   "mimetype": "text/x-python",
   "name": "python",
   "nbconvert_exporter": "python",
   "pygments_lexer": "ipython2",
   "version": "2.7.13"
  }
 },
 "nbformat": 4,
 "nbformat_minor": 1
}