{
 "cells": [
  {
   "cell_type": "code",
   "execution_count": null,
   "metadata": {
    "collapsed": true
   },
   "outputs": [],
   "source": [
    "import sys\n",
    "sys.path.insert(0,\"../../python/\")\n",
    "from parametrization import ConfigGenerator"
   ]
  },
  {
   "cell_type": "markdown",
   "metadata": {},
   "source": [
    "# Initialize configuration generator"
   ]
  },
  {
   "cell_type": "code",
   "execution_count": null,
   "metadata": {
    "collapsed": true
   },
   "outputs": [],
   "source": [
    "pipeline_cfg_file = \"../../pipelines/OnlineCentrality.json\""
   ]
  },
  {
   "cell_type": "code",
   "execution_count": null,
   "metadata": {},
   "outputs": [],
   "source": [
    "cg = ConfigGenerator(pipeline_cfg_file)"
   ]
  },
  {
   "cell_type": "markdown",
   "metadata": {},
   "source": [
    "# Setting default parameters for pipeline"
   ]
  },
  {
   "cell_type": "code",
   "execution_count": null,
   "metadata": {
    "collapsed": true
   },
   "outputs": [],
   "source": [
    "DEFAULTS = {}"
   ]
  },
  {
   "cell_type": "markdown",
   "metadata": {},
   "source": [
    "#### Edge index thresholds"
   ]
  },
  {
   "cell_type": "code",
   "execution_count": null,
   "metadata": {
    "collapsed": true
   },
   "outputs": [],
   "source": [
    "edge_index_threshold = {\n",
    "    \"usopen\":494694\n",
    "}"
   ]
  },
  {
   "cell_type": "code",
   "execution_count": null,
   "metadata": {
    "collapsed": true
   },
   "outputs": [],
   "source": [
    "min_epoch_dict = {\n",
    "    \"usopen\": 1503288000, # 21 Aug 4:00:00 GMT -> 0:00:00 New York\n",
    "}"
   ]
  },
  {
   "cell_type": "code",
   "execution_count": null,
   "metadata": {
    "collapsed": true
   },
   "outputs": [],
   "source": [
    "def fill_map_with_params(my_dict,dataset_id,time_type,num_intervals,time_delta):\n",
    "    my_dict[\"dataset_id\"] = dataset_id\n",
    "    if dataset_id in min_epoch_dict:\n",
    "        my_dict[\"min_epoch\"] = min_epoch_dict[dataset_id] \n",
    "    my_dict[\"time_type\"] = time_type\n",
    "    my_dict[\"edge_index_threshold\"] = edge_index_threshold[dataset_id]\n",
    "    my_dict[\"edge_delta\"] = my_dict[\"edge_index_threshold\"] // num_intervals + 1\n",
    "    my_dict[\"day_index_threshold\"] = num_intervals+1\n",
    "    my_dict[\"epoch_delta\"] = time_delta\n",
    "    print(dataset_id, time_type, my_dict[\"edge_delta\"], my_dict[\"epoch_delta\"])\n",
    "    \n",
    "    if my_dict[\"time_type\"] == \"index\":\n",
    "        index_threshold = my_dict[\"edge_index_threshold\"]\n",
    "        delta = my_dict[\"edge_delta\"]\n",
    "    else:\n",
    "        index_threshold = my_dict[\"day_index_threshold\"]\n",
    "        delta = my_dict[\"epoch_delta\"]\n",
    "    my_dict[\"experiment_path\"] = \"%s/%s_%s_t%i_d%i\" % (DEFAULTS[\"score_folder_prefix\"],my_dict[\"dataset_id\"],my_dict[\"time_type\"],index_threshold,delta)\n",
    "    print(my_dict[\"experiment_path\"])\n",
    "    return my_dict"
   ]
  },
  {
   "cell_type": "markdown",
   "metadata": {},
   "source": [
    "#### Set your default parameters below:"
   ]
  },
  {
   "cell_type": "code",
   "execution_count": null,
   "metadata": {
    "collapsed": true
   },
   "outputs": [],
   "source": [
    "%%bash\n",
    "pwd > cur_dir.tmp"
   ]
  },
  {
   "cell_type": "code",
   "execution_count": null,
   "metadata": {
    "collapsed": true
   },
   "outputs": [],
   "source": [
    "with open(\"cur_dir.tmp\") as f:\n",
    "    cur_dir = f.read()\n",
    "git_repo_path = '/'.join(cur_dir.split(\"/\")[:-2])"
   ]
  },
  {
   "cell_type": "code",
   "execution_count": null,
   "metadata": {
    "collapsed": true
   },
   "outputs": [],
   "source": [
    "%%bash\n",
    "rm cur_dir.tmp"
   ]
  },
  {
   "cell_type": "code",
   "execution_count": null,
   "metadata": {
    "collapsed": true
   },
   "outputs": [],
   "source": [
    "DEFAULTS[\"data_file_prefix\"] = \"%s/data/raw/\" % git_repo_path\n",
    "DEFAULTS[\"score_folder_prefix\"] = \"%s/data/centrality_scores/\" % git_repo_path"
   ]
  },
  {
   "cell_type": "code",
   "execution_count": null,
   "metadata": {
    "collapsed": true
   },
   "outputs": [],
   "source": [
    "DEFAULTS[\"olr_beta\"] = 1.0\n",
    "DEFAULTS[\"batch_prefix\"] = \"\""
   ]
  },
  {
   "cell_type": "markdown",
   "metadata": {},
   "source": [
    "## Compute centrality scores with snapshots of length 1 hour"
   ]
  },
  {
   "cell_type": "code",
   "execution_count": null,
   "metadata": {},
   "outputs": [],
   "source": [
    "DEFAULTS = fill_map_with_params(DEFAULTS,\"usopen\",\"epoch\",21*24,3600)"
   ]
  },
  {
   "cell_type": "markdown",
   "metadata": {},
   "source": [
    "# Export parameters into pipeline configuration file\n",
    "\n",
    "**Configuration file path:** \"../../pipelines/OnlineCentrality.json\"\n"
   ]
  },
  {
   "cell_type": "code",
   "execution_count": null,
   "metadata": {},
   "outputs": [],
   "source": [
    "cg.load_params(DEFAULTS)"
   ]
  },
  {
   "cell_type": "code",
   "execution_count": null,
   "metadata": {},
   "outputs": [],
   "source": [
    "cg.save()"
   ]
  }
 ],
 "metadata": {
  "anaconda-cloud": {},
  "kernelspec": {
   "display_name": "Python 3",
   "language": "python",
   "name": "python3"
  },
  "language_info": {
   "codemirror_mode": {
    "name": "ipython",
    "version": 3
   },
   "file_extension": ".py",
   "mimetype": "text/x-python",
   "name": "python",
   "nbconvert_exporter": "python",
   "pygments_lexer": "ipython3",
   "version": "3.5.5"
  }
 },
 "nbformat": 4,
 "nbformat_minor": 1
}
