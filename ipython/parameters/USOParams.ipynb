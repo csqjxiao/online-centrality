{
 "cells": [
  {
   "cell_type": "code",
   "execution_count": 1,
   "metadata": {
    "collapsed": true
   },
   "outputs": [],
   "source": [
    "import sys\n",
    "sys.path.insert(0,\"../../python/\")\n",
    "from parametrization import ConfigGenerator"
   ]
  },
  {
   "cell_type": "markdown",
   "metadata": {},
   "source": [
    "# Initialize configuration generator"
   ]
  },
  {
   "cell_type": "code",
   "execution_count": 2,
   "metadata": {
    "collapsed": true
   },
   "outputs": [],
   "source": [
    "pipeline_cfg_file = \"../../pipelines/USOpen.json\""
   ]
  },
  {
   "cell_type": "code",
   "execution_count": 3,
   "metadata": {},
   "outputs": [
    {
     "name": "stdout",
     "output_type": "stream",
     "text": [
      "{'pipeline_status': 'off', 'type': 'Parameters', 'path': 'pipelines/USOParams.ipynb', 'is_clone': 'no', 'kernel_type': 'py3-env', 'name': 'USOParams'}\n",
      "{'pipeline_status': 'off', 'type': 'Experiment', 'dependencies': ['FindMatchesUSO'], 'path': 'ipython/usopen/ScheduleScoreUpdaterUSO.ipynb', 'is_clone': 'no', 'kernel_type': 'py3-env', 'name': 'ScheduleScoreUpdaterUSO'}\n",
      "{'pipeline_status': 'on', 'type': 'Experiment', 'dependencies': ['ScheduleScoreUpdaterUSO'], 'path': 'ipython/usopen/uso_predict_player.ipynb', 'is_clone': 'no', 'kernel_type': 'py3-env', 'name': 'PredictPlayerUSO'}\n"
     ]
    }
   ],
   "source": [
    "cg = ConfigGenerator(pipeline_cfg_file)"
   ]
  },
  {
   "cell_type": "markdown",
   "metadata": {},
   "source": [
    "# Setting default parameters for pipeline"
   ]
  },
  {
   "cell_type": "code",
   "execution_count": 4,
   "metadata": {
    "collapsed": true
   },
   "outputs": [],
   "source": [
    "DEFAULTS = {}"
   ]
  },
  {
   "cell_type": "markdown",
   "metadata": {},
   "source": [
    "#### Set your default parameters below:"
   ]
  },
  {
   "cell_type": "code",
   "execution_count": 5,
   "metadata": {
    "collapsed": true
   },
   "outputs": [],
   "source": [
    "%%bash\n",
    "pwd > cur_dir.tmp"
   ]
  },
  {
   "cell_type": "code",
   "execution_count": 6,
   "metadata": {
    "collapsed": true
   },
   "outputs": [],
   "source": [
    "with open(\"cur_dir.tmp\") as f:\n",
    "    cur_dir = f.read()\n",
    "git_repo_path = '/'.join(cur_dir.split(\"/\")[:-2])"
   ]
  },
  {
   "cell_type": "code",
   "execution_count": 7,
   "metadata": {
    "collapsed": true
   },
   "outputs": [],
   "source": [
    "%%bash\n",
    "rm cur_dir.tmp"
   ]
  },
  {
   "cell_type": "markdown",
   "metadata": {},
   "source": [
    "# File Paths"
   ]
  },
  {
   "cell_type": "markdown",
   "metadata": {
    "collapsed": true
   },
   "source": [
    "DEFAULTS[\"uso_root_dir\"] = \"%s/results/\" % git_repo_path\n",
    "DEFAULTS[\"min_epoch\"] = 1503288000\n",
    "DEFAULTS[\"num_of_days\"] = 21"
   ]
  },
  {
   "cell_type": "markdown",
   "metadata": {},
   "source": [
    "# Experiment Parameters"
   ]
  },
  {
   "cell_type": "markdown",
   "metadata": {
    "collapsed": true
   },
   "source": [
    "DEFAULTS[\"is_detailed_relabel\"] = False"
   ]
  },
  {
   "cell_type": "markdown",
   "metadata": {
    "collapsed": true
   },
   "source": [
    "DEFAULTS[\"exclude_media_nodes\"] = False\n",
    "DEFAULTS[\"include_only_players\"] = False\n",
    "DEFAULTS[\"use_binary_labels\"] = True"
   ]
  },
  {
   "cell_type": "code",
   "execution_count": 11,
   "metadata": {
    "collapsed": true
   },
   "outputs": [],
   "source": [
    "DEFAULTS[\"use_cumulative_ndcg\"] = False\n",
    "DEFAULTS[\"metric_id\"] = \"ndcg@50\"\n",
    "DEFAULTS[\"eval_first_snapshot\"] = -24\n",
    "DEFAULTS[\"eval_last_snapshot\"] = -4"
   ]
  },
  {
   "cell_type": "code",
   "execution_count": 12,
   "metadata": {
    "collapsed": true
   },
   "outputs": [],
   "source": [
    "DEFAULTS[\"num_of_threads\"] = 1"
   ]
  },
  {
   "cell_type": "markdown",
   "metadata": {},
   "source": [
    "# Setting parameters for notebooks"
   ]
  },
  {
   "cell_type": "markdown",
   "metadata": {},
   "source": [
    "### Optimal score parameters\n",
    "\n",
    "Comment out this cell out if you want to run a cell below instead!\n"
   ]
  },
  {
   "cell_type": "code",
   "execution_count": 13,
   "metadata": {
    "collapsed": true
   },
   "outputs": [],
   "source": [
    "score_folders = []\n",
    "score_folders += ['olr_a0.05_b1.00_Exp(b:0.500,n:%.3f)' % (n*3600) for n in [24]]\n",
    "score_folders += ['olid_Exp(b:0.500,n:%.3f)' % (n*3600) for n in [24]]\n",
    "score_folders += [\"tpr_a0.85_b%.2f\" % i for i in [0.5]]\n",
    "score_folders += ['spr_snapshot_%i_a0.85_i100' % i for i in [24]]\n",
    "score_folders += ['indeg_snapshot_%i' % i for i in [6]]\n",
    "score_folders += ['hc_snapshot_%i' % i for i in [24]]\n",
    "score_folders += ['nbm_snapshot_%i' % i for i in [6]]\n",
    "DEFAULTS.update({\"is_detailed_relabel\":True,\"img_dir\":\"best_mpp_non_binary\",\"score_folders\":score_folders})"
   ]
  },
  {
   "cell_type": "markdown",
   "metadata": {},
   "source": [
    "### a.) OnlineRank testing"
   ]
  },
  {
   "cell_type": "markdown",
   "metadata": {
    "collapsed": true
   },
   "source": [
    "betas = [0.01,0.05,0.1,0.2,0.3,0.4,0.5,0.6,0.7,0.8,0.85,0.9,0.95,1.0]\n",
    "hour_lbs = [0.25,0.5,0.75,1,1.25,1.5,1.75,2,3,4,5,6,7,8,9,10,11,12,24,48,72]\n",
    "time_windows = [1,2,3,4,5,6,7,8,9,10,11,12,24]"
   ]
  },
  {
   "cell_type": "code",
   "execution_count": 14,
   "metadata": {
    "collapsed": true
   },
   "outputs": [],
   "source": [
    "betas = [1.0]\n",
    "hour_lbs = [1,2,3,4,6,8,10,12,24]\n",
    "time_windows = [1,2,3,4,6,8,10,12,24]"
   ]
  },
  {
   "cell_type": "markdown",
   "metadata": {
    "collapsed": true
   },
   "source": [
    "score_folders = []\n",
    "for b in betas:\n",
    "    score_folders += ['olr_a0.05_b%0.2f_Exp(b:0.500,n:%.3f)' % (b,n) for n in [3600*i for i in hour_lbs]]\n",
    "DEFAULTS.update({\"is_detailed_relabel\":True,\"img_dir\":\"olr_exp_b0.5\",\"score_folders\":score_folders,\"title_text\":\"of Online Centrality models with Exponential weight function (base=0.5)\"})"
   ]
  },
  {
   "cell_type": "markdown",
   "metadata": {},
   "source": [
    "### b.) Temporal PageRank"
   ]
  },
  {
   "cell_type": "markdown",
   "metadata": {
    "collapsed": true
   },
   "source": [
    "score_folders = []\n",
    "score_folders += [\"tpr_a0.85_b%.2f\" % i for i in [0.0,0.01,0.05,0.1,0.3,0.5,0.9]]\n",
    "DEFAULTS.update({\"img_dir\":\"tpr\",\"score_folders\":score_folders})"
   ]
  },
  {
   "cell_type": "markdown",
   "metadata": {},
   "source": [
    "### c.) Static PageRank"
   ]
  },
  {
   "cell_type": "markdown",
   "metadata": {
    "collapsed": true
   },
   "source": [
    "score_folders = []\n",
    "score_folders += ['spr_total_a0.85_i50']\n",
    "score_folders += ['spr_snapshot_%i_a0.85_i50' % i for i in time_windows]\n",
    "DEFAULTS.update({\"img_dir\":\"spr\",\"score_folders\":score_folders})"
   ]
  },
  {
   "cell_type": "markdown",
   "metadata": {},
   "source": [
    "### d.) Static Indegree"
   ]
  },
  {
   "cell_type": "markdown",
   "metadata": {
    "collapsed": true
   },
   "source": [
    "score_folders = []\n",
    "score_folders += ['indeg_total']\n",
    "score_folders += ['indeg_snapshot_%i' % i for i in time_windows]\n",
    "DEFAULTS.update({\"img_dir\":\"indeg\",\"img_dir\":\"indeg\",\"score_folders\":score_folders})"
   ]
  },
  {
   "cell_type": "markdown",
   "metadata": {},
   "source": [
    "### e.) Static Negativ beta-measure"
   ]
  },
  {
   "cell_type": "markdown",
   "metadata": {
    "collapsed": true
   },
   "source": [
    "score_folders = []\n",
    "score_folders += ['nbm_total']\n",
    "score_folders += ['nbm_snapshot_%i' % i for i in time_windows]\n",
    "DEFAULTS.update({\"img_dir\":\"nbm\",\"score_folders\":score_folders})"
   ]
  },
  {
   "cell_type": "markdown",
   "metadata": {},
   "source": [
    "### f.) Static Harmonic Centrality"
   ]
  },
  {
   "cell_type": "markdown",
   "metadata": {
    "collapsed": true
   },
   "source": [
    "score_folders = []\n",
    "#score_folders += ['hc_total']\n",
    "score_folders += ['hc_snapshot_%i' % i for i in time_windows]\n",
    "DEFAULTS.update({\"img_dir\":\"hc\",\"score_folders\":score_folders})"
   ]
  },
  {
   "cell_type": "markdown",
   "metadata": {},
   "source": [
    "### g.) Online Indegree"
   ]
  },
  {
   "cell_type": "markdown",
   "metadata": {
    "collapsed": true
   },
   "source": [
    "hour_lbs_olid = [1,2,3,4,5,6,7,8,9,10,11,12,24]"
   ]
  },
  {
   "cell_type": "markdown",
   "metadata": {
    "collapsed": true
   },
   "source": [
    "score_folders = []\n",
    "score_folders += ['olid_Exp(b:0.500,n:%.3f)' % n for n in [3600*i for i in hour_lbs_olid]]\n",
    "DEFAULTS.update({\"is_detailed_relabel\":True,\"img_dir\":\"olid\",\"score_folders\":score_folders,\"title_text\":\"of Online Centrality models with Exponential weight function\"})"
   ]
  },
  {
   "cell_type": "markdown",
   "metadata": {},
   "source": [
    "# Export parameters into pipeline configuration file"
   ]
  },
  {
   "cell_type": "code",
   "execution_count": 15,
   "metadata": {},
   "outputs": [
    {
     "name": "stdout",
     "output_type": "stream",
     "text": [
      "{'PredictPlayerUSO': [], 'ScheduleScoreUpdaterUSO': [], 'USOParams': []}\n"
     ]
    }
   ],
   "source": [
    "cg.load_params(DEFAULTS)"
   ]
  },
  {
   "cell_type": "markdown",
   "metadata": {},
   "source": [
    "cg.pipeline_cfg"
   ]
  },
  {
   "cell_type": "code",
   "execution_count": 16,
   "metadata": {},
   "outputs": [
    {
     "name": "stdout",
     "output_type": "stream",
     "text": [
      "USOpen pipeline config was updated!\n"
     ]
    }
   ],
   "source": [
    "cg.save()"
   ]
  }
 ],
 "metadata": {
  "anaconda-cloud": {},
  "kernelspec": {
   "display_name": "Python [default]",
   "language": "python",
   "name": "python3"
  },
  "language_info": {
   "codemirror_mode": {
    "name": "ipython",
    "version": 3
   },
   "file_extension": ".py",
   "mimetype": "text/x-python",
   "name": "python",
   "nbconvert_exporter": "python",
   "pygments_lexer": "ipython3",
   "version": "3.5.4"
  }
 },
 "nbformat": 4,
 "nbformat_minor": 1
}
