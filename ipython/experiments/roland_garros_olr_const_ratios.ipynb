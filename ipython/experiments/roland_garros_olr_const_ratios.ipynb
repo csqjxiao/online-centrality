{
 "cells": [
  {
   "cell_type": "code",
   "execution_count": null,
   "metadata": {},
   "outputs": [],
   "source": [
    "from IPython.core.display import HTML\n",
    "HTML(\"<style>.container { width:100% !important; }</style>\")"
   ]
  },
  {
   "cell_type": "code",
   "execution_count": null,
   "metadata": {
    "collapsed": true
   },
   "outputs": [],
   "source": [
    "import os, shutil\n",
    "import numpy as np\n",
    "import pandas as pd"
   ]
  },
  {
   "cell_type": "code",
   "execution_count": null,
   "metadata": {
    "collapsed": true,
    "scrolled": true
   },
   "outputs": [],
   "source": [
    "import sys\n",
    "sys.path.insert(0,\"../../python/\")\n",
    "from parametrization import ParamHelper"
   ]
  },
  {
   "cell_type": "code",
   "execution_count": null,
   "metadata": {
    "collapsed": true
   },
   "outputs": [],
   "source": [
    "import prediction_utils.rg_prediction_sim as rgps\n",
    "import prediction_utils.rg_prediction_visu as rgpv"
   ]
  },
  {
   "cell_type": "markdown",
   "metadata": {},
   "source": [
    "# 1. Load experiment parameters"
   ]
  },
  {
   "cell_type": "code",
   "execution_count": null,
   "metadata": {},
   "outputs": [],
   "source": [
    "ph = ParamHelper(\"../../pipelines/Evaluation.json\", \"ipython/experiments/roland_garros_olr_const_ratios.ipynb\")"
   ]
  },
  {
   "cell_type": "code",
   "execution_count": null,
   "metadata": {},
   "outputs": [],
   "source": [
    "rg_root_dir = ph.get(\"rg_root_dir\")\n",
    "experiment_path = rg_root_dir + \"/conts_ratios/\"\n",
    "original_experiment_path = experiment_path + \"/tennis_players_copied\"\n",
    "tennis_players_source_path = ph.get(\"tennis_players_source_path\")\n",
    "prediction_experiment_path = \"../../data/centrality_scores/rg17_epoch_t457_d3600/original/\"\n",
    "num_of_intervals = ph.get(\"num_of_intervals\")\n",
    "img_dir = experiment_path + \"/img\"\n",
    "N_THREADS = ph.get(\"num_of_threads\")"
   ]
  },
  {
   "cell_type": "code",
   "execution_count": null,
   "metadata": {
    "collapsed": true
   },
   "outputs": [],
   "source": [
    "if not os.path.exists(img_dir):\n",
    "    os.makedirs(img_dir)"
   ]
  },
  {
   "cell_type": "code",
   "execution_count": null,
   "metadata": {},
   "outputs": [],
   "source": [
    "print(tennis_players_source_path,original_experiment_path,prediction_experiment_path)"
   ]
  },
  {
   "cell_type": "markdown",
   "metadata": {},
   "source": [
    "### Set other parameters for similarity computation"
   ]
  },
  {
   "cell_type": "code",
   "execution_count": null,
   "metadata": {
    "collapsed": true
   },
   "outputs": [],
   "source": [
    "score_folders = [\n",
    "    \"olr_a0.05_Ray(s1.000,n:7200.000)\",\n",
    "    \"olr_a0.05_Ray(s1.000,n:18000.000)\",\n",
    "    \"olr_a0.05_Ray(s1.000,n:36000.000)\",\n",
    "    \"olr_a0.05_Const(1.00)\"\n",
    "]"
   ]
  },
  {
   "cell_type": "code",
   "execution_count": null,
   "metadata": {},
   "outputs": [],
   "source": [
    "intervals = range(0,num_of_intervals)\n",
    "print num_of_intervals"
   ]
  },
  {
   "cell_type": "markdown",
   "metadata": {},
   "source": [
    "# 2. Copy tennis player score files to all directory"
   ]
  },
  {
   "cell_type": "code",
   "execution_count": null,
   "metadata": {},
   "outputs": [],
   "source": [
    "num_of_days = 19\n",
    "if num_of_intervals % num_of_days != 0:\n",
    "    raise RuntimeError(\"The number of intervals per day is not consistent!\")\n",
    "duplication_factor = num_of_intervals / num_of_days\n",
    "print(\"Duplication factor: %i\" % duplication_factor)\n",
    "\n",
    "if not os.path.exists(original_experiment_path):\n",
    "    os.makedirs(original_experiment_path)\n",
    "    for i in intervals:\n",
    "        src_file_idx = i // duplication_factor if duplication_factor > 1 else i\n",
    "        full_src_file = \"%s/players_%i.csv\" % (tennis_players_source_path, src_file_idx)\n",
    "        dest = \"%s/players_%i.csv\" % (original_experiment_path, i)\n",
    "        shutil.copy(full_src_file, dest)\n",
    "    print(\"Label files were duplicated!\")"
   ]
  },
  {
   "cell_type": "code",
   "execution_count": null,
   "metadata": {},
   "outputs": [],
   "source": [
    "original_experiment_path"
   ]
  },
  {
   "cell_type": "markdown",
   "metadata": {},
   "source": [
    "# 3. Count the number of nodes with non-constant olr score"
   ]
  },
  {
   "cell_type": "code",
   "execution_count": null,
   "metadata": {
    "collapsed": true
   },
   "outputs": [],
   "source": [
    "score_stat_results = {}"
   ]
  },
  {
   "cell_type": "markdown",
   "metadata": {},
   "source": [
    "## OnlineRank"
   ]
  },
  {
   "cell_type": "code",
   "execution_count": null,
   "metadata": {},
   "outputs": [],
   "source": [
    "%%time\n",
    "rgps.calculate_bigger_than_const_ratio(score_stat_results, \"olr\", score_folders, intervals, prediction_experiment_path, const=0.051, n_threads=N_THREADS)"
   ]
  },
  {
   "cell_type": "markdown",
   "metadata": {},
   "source": [
    "# 4. Analyze Mention Data"
   ]
  },
  {
   "cell_type": "code",
   "execution_count": null,
   "metadata": {},
   "outputs": [],
   "source": [
    "mention_data_path = \"../../data/raw/rg17_mentions.csv\"\n",
    "mentions_df = pd.read_csv(mention_data_path, sep=\" \", names=[\"time\",\"src\",\"trg\"])\n",
    "len(mentions_df)"
   ]
  },
  {
   "cell_type": "code",
   "execution_count": null,
   "metadata": {
    "collapsed": true
   },
   "outputs": [],
   "source": [
    "min_time = 1495576800  # 2017 May 24  0:00:00 GMT+2 time"
   ]
  },
  {
   "cell_type": "code",
   "execution_count": null,
   "metadata": {
    "collapsed": true
   },
   "outputs": [],
   "source": [
    "mentions_df[\"snapshot_id\"] = mentions_df[\"time\"].apply(lambda x: (x-min_time) // 3600)"
   ]
  },
  {
   "cell_type": "code",
   "execution_count": null,
   "metadata": {},
   "outputs": [],
   "source": [
    "mentions_df.head()"
   ]
  },
  {
   "cell_type": "markdown",
   "metadata": {},
   "source": [
    "#### Exclude data after June 11"
   ]
  },
  {
   "cell_type": "code",
   "execution_count": null,
   "metadata": {},
   "outputs": [],
   "source": [
    "mentions_df = mentions_df[mentions_df[\"snapshot_id\"] < 456]\n",
    "len(mentions_df)"
   ]
  },
  {
   "cell_type": "markdown",
   "metadata": {},
   "source": [
    "## Extract number of nodes in mention network"
   ]
  },
  {
   "cell_type": "code",
   "execution_count": null,
   "metadata": {
    "collapsed": true
   },
   "outputs": [],
   "source": [
    "def get_node_count(df):\n",
    "    src = set(df[\"src\"])\n",
    "    trg = set(df[\"trg\"])\n",
    "    nodes = src.union(trg)\n",
    "    return len(nodes)"
   ]
  },
  {
   "cell_type": "code",
   "execution_count": null,
   "metadata": {
    "collapsed": true
   },
   "outputs": [],
   "source": [
    "num_nodes_so_far = []\n",
    "for i in range(456):\n",
    "    partial_df = mentions_df[mentions_df[\"snapshot_id\"] <= i]\n",
    "    num_nodes_so_far.append(get_node_count(partial_df))"
   ]
  },
  {
   "cell_type": "markdown",
   "metadata": {},
   "source": [
    "## Extract mention volume"
   ]
  },
  {
   "cell_type": "code",
   "execution_count": null,
   "metadata": {
    "collapsed": true
   },
   "outputs": [],
   "source": [
    "hourly_num_mentions = mentions_df[\"snapshot_id\"].value_counts()"
   ]
  },
  {
   "cell_type": "code",
   "execution_count": null,
   "metadata": {
    "collapsed": true
   },
   "outputs": [],
   "source": [
    "num_of_mentions = [hourly_num_mentions[i] for i in intervals]"
   ]
  },
  {
   "cell_type": "markdown",
   "metadata": {},
   "source": [
    "# 5. Visualization"
   ]
  },
  {
   "cell_type": "code",
   "execution_count": null,
   "metadata": {
    "collapsed": true
   },
   "outputs": [],
   "source": [
    "%matplotlib inline\n",
    "import seaborn as sns\n",
    "import matplotlib.pyplot as plt"
   ]
  },
  {
   "cell_type": "code",
   "execution_count": null,
   "metadata": {
    "collapsed": true
   },
   "outputs": [],
   "source": [
    "custom_palette = sns.color_palette(\"Set2\", 8)\n",
    "m_palette = sns.color_palette(['#5cd65c','#ff6666','#ff944d'])\n",
    "custom_palette = m_palette + custom_palette\n",
    "sns.set_palette(m_palette + custom_palette)"
   ]
  },
  {
   "cell_type": "code",
   "execution_count": null,
   "metadata": {
    "collapsed": true
   },
   "outputs": [],
   "source": [
    "paper_rc = {'lines.linewidth': 5,'lines.markersize': 20}              \n",
    "sns.set_context(\"paper\", rc = paper_rc, font_scale = 4.25)\n",
    "sns.set_style(\"whitegrid\")"
   ]
  },
  {
   "cell_type": "markdown",
   "metadata": {},
   "source": [
    "## Select subset of days for evaluation"
   ]
  },
  {
   "cell_type": "code",
   "execution_count": null,
   "metadata": {},
   "outputs": [],
   "source": [
    "dates = [\"2017-05-%.2i\" % i for i in range(24,32)]\n",
    "dates += [\"2017-06-%.2i\" % i for i in range(1,12)]\n",
    "dates"
   ]
  },
  {
   "cell_type": "markdown",
   "metadata": {},
   "source": [
    "## OnlineRank"
   ]
  },
  {
   "cell_type": "code",
   "execution_count": null,
   "metadata": {},
   "outputs": [],
   "source": [
    "num_of_intervals, len(intervals)"
   ]
  },
  {
   "cell_type": "code",
   "execution_count": null,
   "metadata": {
    "scrolled": false
   },
   "outputs": [],
   "source": [
    "rgpv.plot_non_const_ratio(intervals, dates, score_stat_results,num_nodes_so_far,\"m\",\"Number of nodes\", custom_palette)\n",
    "plt.savefig(\"%s/non_const_with_node_count.png\" % img_dir)"
   ]
  },
  {
   "cell_type": "code",
   "execution_count": null,
   "metadata": {
    "scrolled": false
   },
   "outputs": [],
   "source": [
    "rgpv.plot_non_const_ratio(intervals, dates, score_stat_results,num_of_mentions,\"b\",\"Mention volume\", custom_palette)\n",
    "plt.savefig(\"%s/non_const_with_mention_volume.png\" % img_dir)"
   ]
  }
 ],
 "metadata": {
  "anaconda-cloud": {},
  "kernelspec": {
   "display_name": "Python [conda env:dm-env]",
   "language": "python",
   "name": "conda-env-dm-env-py"
  },
  "language_info": {
   "codemirror_mode": {
    "name": "ipython",
    "version": 2
   },
   "file_extension": ".py",
   "mimetype": "text/x-python",
   "name": "python",
   "nbconvert_exporter": "python",
   "pygments_lexer": "ipython2",
   "version": "2.7.13"
  }
 },
 "nbformat": 4,
 "nbformat_minor": 1
}