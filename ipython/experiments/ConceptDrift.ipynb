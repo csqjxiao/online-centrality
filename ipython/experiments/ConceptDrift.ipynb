{
 "cells": [
  {
   "cell_type": "code",
   "execution_count": null,
   "metadata": {},
   "outputs": [],
   "source": [
    "import sys, os, shutil\n",
    "sys.path.insert(0,\"../../python/\")\n",
    "import concept_drift.graph_generator as gg\n",
    "import concept_drift.experiment_utils as ceu\n",
    "import centrality_utils.temporal_pagerank as tprc\n",
    "import centrality_utils.online_rank_computer as olrc\n",
    "import simulator_utils.graph_simulator as gsim\n",
    "from centrality_utils.online_rank_computer import link2str"
   ]
  },
  {
   "cell_type": "code",
   "execution_count": null,
   "metadata": {},
   "outputs": [],
   "source": [
    "import pandas as pd\n",
    "import numpy as np\n",
    "import networkx as nx\n",
    "from scipy.stats import pearsonr, spearmanr"
   ]
  },
  {
   "cell_type": "code",
   "execution_count": null,
   "metadata": {},
   "outputs": [],
   "source": [
    "%matplotlib inline\n",
    "import seaborn as sns\n",
    "import matplotlib.pyplot as plt"
   ]
  },
  {
   "cell_type": "code",
   "execution_count": null,
   "metadata": {},
   "outputs": [],
   "source": [
    "def get_alfa_for_katz(beta,c,E):\n",
    "    \"\"\"Damping factor of Katz from induction proof\"\"\"\n",
    "    return beta / (E*(1-np.exp(-c)))"
   ]
  },
  {
   "cell_type": "markdown",
   "metadata": {},
   "source": [
    "# 0. Load Parameters"
   ]
  },
  {
   "cell_type": "code",
   "execution_count": null,
   "metadata": {},
   "outputs": [],
   "source": [
    "mode = \"students\"\n",
    "#mode = \"facebook\"\n",
    "#mode = \"tumblr\"\n",
    "#mode = \"enron\""
   ]
  },
  {
   "cell_type": "code",
   "execution_count": null,
   "metadata": {},
   "outputs": [],
   "source": [
    "n = 500\n",
    "olr_beta = 0.05\n",
    "pow_exp = 5.0\n",
    "is_outdegree_normed = True"
   ]
  },
  {
   "cell_type": "code",
   "execution_count": null,
   "metadata": {},
   "outputs": [],
   "source": [
    "is_random_sample = True\n",
    "handle_sinks = False\n",
    "use_custom_katz = False\n",
    "weight_str = 'weight'"
   ]
  },
  {
   "cell_type": "markdown",
   "metadata": {},
   "source": [
    "# 1. Sampling \"temporal\" edges from a random graph"
   ]
  },
  {
   "cell_type": "code",
   "execution_count": null,
   "metadata": {},
   "outputs": [],
   "source": [
    "samples = []"
   ]
  },
  {
   "cell_type": "markdown",
   "metadata": {},
   "source": [
    "## i.) Generate random graph"
   ]
  },
  {
   "cell_type": "code",
   "execution_count": null,
   "metadata": {},
   "outputs": [],
   "source": [
    "G = gg.weighted_DiGraph(n, seed = 1.0, mode = mode, weights = 'random', handle_sinks=handle_sinks, pow_exp=pow_exp)"
   ]
  },
  {
   "cell_type": "code",
   "execution_count": null,
   "metadata": {},
   "outputs": [],
   "source": [
    "weights = [w['weight'] for s,t,w in list(G.edges(data=True))]\n",
    "plt.hist(weights,bins=50)\n",
    "plt.show()"
   ]
  },
  {
   "cell_type": "markdown",
   "metadata": {},
   "source": [
    "### Define number of sampled edges"
   ]
  },
  {
   "cell_type": "code",
   "execution_count": null,
   "metadata": {},
   "outputs": [],
   "source": [
    "delta = 50\n",
    "iters = 10000\n",
    "print(delta,iters)"
   ]
  },
  {
   "cell_type": "markdown",
   "metadata": {},
   "source": [
    "### Experiment with Katz-index damping factor"
   ]
  },
  {
   "cell_type": "code",
   "execution_count": null,
   "metadata": {},
   "outputs": [],
   "source": [
    "n_order = G.nodes()\n",
    "E = G.number_of_edges()"
   ]
  },
  {
   "cell_type": "markdown",
   "metadata": {},
   "source": [
    "x = 1-np.random.power(50, size=E)\n",
    "plt.hist(x,bins=50)\n",
    "plt.show()"
   ]
  },
  {
   "cell_type": "code",
   "execution_count": null,
   "metadata": {},
   "outputs": [],
   "source": [
    "c_factors = [5.0,1000.0]\n",
    "c_list = [i/E for i in c_factors]\n",
    "c_list"
   ]
  },
  {
   "cell_type": "code",
   "execution_count": null,
   "metadata": {},
   "outputs": [],
   "source": [
    "katz_damping = [get_alfa_for_katz(olr_beta,c,E) for c in c_list]\n",
    "katz_damping"
   ]
  },
  {
   "cell_type": "code",
   "execution_count": null,
   "metadata": {},
   "outputs": [],
   "source": [
    "# katz\n",
    "katz_values = []\n",
    "katz_custom_items = []\n",
    "for kd in katz_damping:\n",
    "    print(kd)\n",
    "    if use_custom_katz:\n",
    "        katz = ceu.custom_katz(G,alpha=kd,max_iter=1000)\n",
    "    else:\n",
    "        katz = nx.katz_centrality(G,alpha=kd,max_iter=10000,weight=None)\n",
    "    katz_values.append([katz[n] for n in n_order])\n",
    "    # for later correlation computation\n",
    "    katz_item = list(zip(*katz.items()))\n",
    "    katz_custom_items.append([katz_item,katz_item,katz_item])"
   ]
  },
  {
   "cell_type": "code",
   "execution_count": null,
   "metadata": {},
   "outputs": [],
   "source": [
    "# pagerank\n",
    "pr = nx.pagerank(G)\n",
    "pr_values = [pr[n] for n in n_order]"
   ]
  },
  {
   "cell_type": "markdown",
   "metadata": {},
   "source": [
    "### Correlation of Katz to PageRank: with stronger damping it increases"
   ]
  },
  {
   "cell_type": "code",
   "execution_count": null,
   "metadata": {},
   "outputs": [],
   "source": [
    "for i, kd in enumerate(katz_damping):\n",
    "    print(kd, spearmanr(katz_values[i], pr_values))\n",
    "    print(kd, pearsonr(katz_values[i], pr_values))\n",
    "    print()"
   ]
  },
  {
   "cell_type": "markdown",
   "metadata": {},
   "source": [
    "## ii.) First Sample"
   ]
  },
  {
   "cell_type": "code",
   "execution_count": null,
   "metadata": {},
   "outputs": [],
   "source": [
    "k_alpha = katz_damping[0]\n",
    "print(k_alpha)"
   ]
  },
  {
   "cell_type": "code",
   "execution_count": null,
   "metadata": {},
   "outputs": [],
   "source": [
    "samples.append(ceu.get_stream(G, iters, katz_alpha=k_alpha, is_custom_katz=use_custom_katz, norm_outdegree=is_outdegree_normed, random_sample=is_random_sample, weight=weight_str))"
   ]
  },
  {
   "cell_type": "markdown",
   "metadata": {},
   "source": [
    "## iii.) Second Sample (change weights)"
   ]
  },
  {
   "cell_type": "code",
   "execution_count": null,
   "metadata": {},
   "outputs": [],
   "source": [
    "G = gg.change_weights(G, pow_exp=pow_exp)\n",
    "samples.append(ceu.get_stream(G, iters, katz_alpha=k_alpha, is_custom_katz=use_custom_katz, norm_outdegree=is_outdegree_normed, random_sample=is_random_sample, weight=weight_str))"
   ]
  },
  {
   "cell_type": "markdown",
   "metadata": {},
   "source": [
    "## iv.) Third Sample (change weights)"
   ]
  },
  {
   "cell_type": "code",
   "execution_count": null,
   "metadata": {},
   "outputs": [],
   "source": [
    "G = gg.change_weights(G, pow_exp=pow_exp)\n",
    "samples.append(ceu.get_stream(G, iters, katz_alpha=k_alpha, is_custom_katz=use_custom_katz, norm_outdegree=is_outdegree_normed, random_sample=is_random_sample, weight=weight_str))"
   ]
  },
  {
   "cell_type": "markdown",
   "metadata": {},
   "source": [
    "## v.) Concatenate stream"
   ]
  },
  {
   "cell_type": "code",
   "execution_count": null,
   "metadata": {},
   "outputs": [],
   "source": [
    "nodes = G.nodes()\n",
    "pr_items = []\n",
    "katz_items = []\n",
    "\n",
    "stream = []\n",
    "for stream_item, pr_item, katz_item in samples:\n",
    "    stream += stream_item\n",
    "    pr_items.append(list(zip(*pr_item.items())))\n",
    "    katz_items.append(list(zip(*katz_item.items())))\n",
    "    print(len(stream_item))\n",
    "len(stream)"
   ]
  },
  {
   "cell_type": "markdown",
   "metadata": {},
   "source": [
    "## Similarity of weighted PageRank and Katz-index"
   ]
  },
  {
   "cell_type": "code",
   "execution_count": null,
   "metadata": {},
   "outputs": [],
   "source": [
    "len(pr_items)"
   ]
  },
  {
   "cell_type": "code",
   "execution_count": null,
   "metadata": {},
   "outputs": [],
   "source": [
    "d1, d2, d3 = dict(zip(*pr_items[0])), dict(zip(*pr_items[1])), dict(zip(*pr_items[2]))\n",
    "values_1 = [d1[n] for n in n_order]\n",
    "values_2 = [d2[n] for n in n_order]\n",
    "values_3 = [d3[n] for n in n_order]"
   ]
  },
  {
   "cell_type": "code",
   "execution_count": null,
   "metadata": {},
   "outputs": [],
   "source": [
    "spearmanr(values_1, values_2), spearmanr(values_2, values_3)"
   ]
  },
  {
   "cell_type": "code",
   "execution_count": null,
   "metadata": {},
   "outputs": [],
   "source": [
    "d1, d2, d3 = dict(zip(*katz_items[0])), dict(zip(*katz_items[1])), dict(zip(*katz_items[2]))\n",
    "values_1 = [d1[n] for n in n_order]\n",
    "values_2 = [d2[n] for n in n_order]\n",
    "values_3 = [d3[n] for n in n_order]"
   ]
  },
  {
   "cell_type": "code",
   "execution_count": null,
   "metadata": {},
   "outputs": [],
   "source": [
    "spearmanr(values_1, values_2), spearmanr(values_2, values_3)"
   ]
  },
  {
   "cell_type": "markdown",
   "metadata": {},
   "source": [
    "# 2.) Simulate models on sampled edges"
   ]
  },
  {
   "cell_type": "code",
   "execution_count": null,
   "metadata": {},
   "outputs": [],
   "source": [
    "gsim_params = []\n",
    "experiment_path = \"../../data/centrality_scores/concept_drift_%s_random%s_outdeg%s\" % (mode, is_random_sample, is_outdegree_normed)\n",
    "time_type = \"index\""
   ]
  },
  {
   "cell_type": "code",
   "execution_count": null,
   "metadata": {},
   "outputs": [],
   "source": [
    "if os.path.exists(experiment_path):\n",
    "    print(\"Deleting former files...\")\n",
    "    shutil.rmtree(experiment_path)\n",
    "    print(\"Files were deleted!\")"
   ]
  },
  {
   "cell_type": "code",
   "execution_count": null,
   "metadata": {},
   "outputs": [],
   "source": [
    "src, trg = zip(*stream)\n",
    "edge_idx = range(len(stream))\n",
    "graph_data = np.array(list(zip(edge_idx, src, trg)))\n",
    "edges = [link2str(link) for link in graph_data[:,1:3].tolist()]"
   ]
  },
  {
   "cell_type": "markdown",
   "metadata": {},
   "source": [
    "### a.) Parametrize Temporal PageRank"
   ]
  },
  {
   "cell_type": "code",
   "execution_count": null,
   "metadata": {},
   "outputs": [],
   "source": [
    "tpr_params = []\n",
    "tpr_params += [tprc.TemporalPageRankParams(0.85,b) for b in [0.0,0.01,0.05,0.5,0.95]] "
   ]
  },
  {
   "cell_type": "code",
   "execution_count": null,
   "metadata": {},
   "outputs": [],
   "source": [
    "if len(tpr_params) > 0:\n",
    "    gsim_params.append(tprc.TemporalPageRankComputer(nodes,tpr_params))"
   ]
  },
  {
   "cell_type": "markdown",
   "metadata": {},
   "source": [
    "### b.) Parametrize OnlineRank"
   ]
  },
  {
   "cell_type": "code",
   "execution_count": null,
   "metadata": {},
   "outputs": [],
   "source": [
    "olr_params = []\n",
    "for c in c_list:\n",
    "    olr_params += [olrc.OnlineRankParams(0.05, olr_beta, olrc.ExponentialWeighter(base=np.exp(-1),norm=1.0/c))]"
   ]
  },
  {
   "cell_type": "code",
   "execution_count": null,
   "metadata": {},
   "outputs": [],
   "source": [
    "if len(olr_params) > 0:\n",
    "    gsim_params.append(olrc.OnlineRankComputer(nodes,edges,olr_params))"
   ]
  },
  {
   "cell_type": "markdown",
   "metadata": {},
   "source": [
    "### c.) Run"
   ]
  },
  {
   "cell_type": "code",
   "execution_count": null,
   "metadata": {
    "scrolled": true
   },
   "outputs": [],
   "source": [
    "boundaries = list(range(0,len(stream)+delta,delta))[1:]\n",
    "print(min(boundaries), max(boundaries))\n",
    "len(boundaries)"
   ]
  },
  {
   "cell_type": "code",
   "execution_count": null,
   "metadata": {
    "scrolled": true
   },
   "outputs": [],
   "source": [
    "%%time\n",
    "gsim_obj = gsim.OnlineGraphSimulator(graph_data, time_type=time_type, verbose=False)\n",
    "experiment_graph_stats = gsim_obj.run_with_boundaries(gsim_params,boundaries,experiment_path, max_index=None)"
   ]
  },
  {
   "cell_type": "markdown",
   "metadata": {},
   "source": [
    "# 3.) Evaluation - Concept drift"
   ]
  },
  {
   "cell_type": "code",
   "execution_count": null,
   "metadata": {},
   "outputs": [],
   "source": [
    "eval_snapshots = range(len(boundaries))"
   ]
  },
  {
   "cell_type": "code",
   "execution_count": null,
   "metadata": {},
   "outputs": [],
   "source": [
    "def show_concept_drift(ground_truth, tpr_items, olr_items, legends):\n",
    "    markers = [\"--\",\"-\",\":\"]\n",
    "    prefixes, corrs = [], []\n",
    "    #tpr\n",
    "    for tpr_item in tpr_items:\n",
    "        tpr_prefix = \"%s/original/%s/tpr\" % (experiment_path, str(tpr_item))\n",
    "        prefixes.append(tpr_prefix)\n",
    "        corrs.append(ceu.get_correlations(tpr_prefix, eval_snapshots, delta, iters, ground_truth, visu=False))\n",
    "    #olr\n",
    "    for olr_item in olr_items:\n",
    "        olr_prefix = \"%s/original/%s/olr\" % (experiment_path, str(olr_item))\n",
    "        prefixes.append(olr_prefix)\n",
    "        corrs.append(ceu.get_correlations(olr_prefix, eval_snapshots, delta, iters, ground_truth, visu=False))\n",
    "    #plot\n",
    "    visu_records = list(zip(prefixes, corrs))\n",
    "    print(len(visu_records))\n",
    "    plt.figure(figsize=(18,5))\n",
    "    x = [99,199,299,399,499,599]\n",
    "    ticks = [5000,10000,15000,20000,25000,30000]\n",
    "    plt.title(mode)\n",
    "    for i, rec in enumerate(visu_records):\n",
    "        pref, corr = rec\n",
    "        plt.plot(corr[:,0],corr[:,2],markers[i],label=legends[i])\n",
    "    plt.ylim(0.0,1.0)\n",
    "    plt.ylabel(\"spearman\")\n",
    "    plt.xticks(x,ticks)\n",
    "    plt.xlabel(\"number of temporal edges\")\n",
    "    plt.legend(loc=4)"
   ]
  },
  {
   "cell_type": "code",
   "execution_count": null,
   "metadata": {},
   "outputs": [],
   "source": [
    "eval_snapshots"
   ]
  },
  {
   "cell_type": "code",
   "execution_count": null,
   "metadata": {},
   "outputs": [],
   "source": [
    "for p in olr_params:\n",
    "    print(p)"
   ]
  },
  {
   "cell_type": "code",
   "execution_count": null,
   "metadata": {},
   "outputs": [],
   "source": [
    "tpr_items = [tpr_params[3]]\n",
    "olr_items = [olr_params[0],olr_params[1]]\n",
    "legends = [\n",
    "    \"Temporal PageRank\",\n",
    "    \"Online Centrality: c=%i/E\" % c_factors[0],\n",
    "    \"Online Centrality: c=%i/E\" % c_factors[1]\n",
    "]\n",
    "print(legends)"
   ]
  },
  {
   "cell_type": "code",
   "execution_count": null,
   "metadata": {},
   "outputs": [],
   "source": [
    "import seaborn as sns\n",
    "sns.set(font=\"Palatino\",font_scale = 2.0)\n",
    "sns.set_style(\"whitegrid\")"
   ]
  },
  {
   "cell_type": "markdown",
   "metadata": {},
   "source": [
    "## a.) convergence to pagerank"
   ]
  },
  {
   "cell_type": "code",
   "execution_count": null,
   "metadata": {},
   "outputs": [],
   "source": [
    "show_concept_drift(pr_items, tpr_items, olr_items, legends)"
   ]
  },
  {
   "cell_type": "markdown",
   "metadata": {},
   "source": [
    "## b.) convergence ot katz-index"
   ]
  },
  {
   "cell_type": "code",
   "execution_count": null,
   "metadata": {},
   "outputs": [],
   "source": [
    "katz_damping"
   ]
  },
  {
   "cell_type": "code",
   "execution_count": null,
   "metadata": {},
   "outputs": [],
   "source": [
    "show_concept_drift(katz_items, tpr_items, olr_items, legends)"
   ]
  }
 ],
 "metadata": {
  "anaconda-cloud": {},
  "kernelspec": {
   "display_name": "Python 3",
   "language": "python",
   "name": "python3"
  },
  "language_info": {
   "codemirror_mode": {
    "name": "ipython",
    "version": 3
   },
   "file_extension": ".py",
   "mimetype": "text/x-python",
   "name": "python",
   "nbconvert_exporter": "python",
   "pygments_lexer": "ipython3",
   "version": "3.5.5"
  }
 },
 "nbformat": 4,
 "nbformat_minor": 2
}
