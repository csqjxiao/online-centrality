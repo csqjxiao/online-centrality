{
 "cells": [
  {
   "cell_type": "code",
   "execution_count": null,
   "metadata": {
    "collapsed": true
   },
   "outputs": [],
   "source": [
    "import numpy as np\n",
    "import pandas as pd\n",
    "import json, datetime, sys, os, pytz\n",
    "from collections import Counter"
   ]
  },
  {
   "cell_type": "code",
   "execution_count": null,
   "metadata": {
    "collapsed": true
   },
   "outputs": [],
   "source": [
    "sys.path.insert(0,\"../../python/\")\n",
    "from parametrization import ParamHelper"
   ]
  },
  {
   "cell_type": "code",
   "execution_count": null,
   "metadata": {
    "collapsed": true
   },
   "outputs": [],
   "source": [
    "sys.path.insert(0,\"../../python\")\n",
    "import data_processing.player_labeling as pl\n",
    "import data_processing.tennis_player_processing as tpp"
   ]
  },
  {
   "cell_type": "markdown",
   "metadata": {},
   "source": [
    "# 1. Load data"
   ]
  },
  {
   "cell_type": "code",
   "execution_count": null,
   "metadata": {
    "collapsed": true
   },
   "outputs": [],
   "source": [
    "dataset_id = \"uo17\""
   ]
  },
  {
   "cell_type": "code",
   "execution_count": null,
   "metadata": {},
   "outputs": [],
   "source": [
    "if dataset_id == \"uo17\":\n",
    "    # There was no tennis match on 2017-08-26,27!\n",
    "    min_epoch = 1503288000\n",
    "    last_date = \"2017-09-10\"\n",
    "    missing_dates = [\"2017-08-21\",\"2017-08-26\",\"2017-08-27\"]\n",
    "    time_zone = pytz.timezone('America/New_York')\n",
    "    sep = \";\"\n",
    "elif dataset_id == \"rg17\":\n",
    "    # There was no tennis match on 2017-05-27!\n",
    "    min_epoch = 1495584000\n",
    "    last_date = \"2017-06-11\"\n",
    "    missing_dates = [\"2017-05-27\"]\n",
    "    time_zone = pytz.timezone('Europe/Paris')\n",
    "    sep = \"|\"\n",
    "else:\n",
    "    raise RuntimeError(\"Invalid dataset!\")\n",
    "print(pl.epoch2date(min_epoch, time_zone))"
   ]
  },
  {
   "cell_type": "code",
   "execution_count": null,
   "metadata": {},
   "outputs": [],
   "source": [
    "output_prefix = \"../../experiments/%s\" % dataset_id"
   ]
  },
  {
   "cell_type": "markdown",
   "metadata": {},
   "source": [
    "## a.) Load mention events"
   ]
  },
  {
   "cell_type": "code",
   "execution_count": null,
   "metadata": {},
   "outputs": [],
   "source": [
    "mentions_df = pd.read_csv(\"../../data/%s_data/raw/%s_mentions.csv\" % (dataset_id, dataset_id), sep=\" \", names=[\"epoch\",\"src\",\"trg\"])"
   ]
  },
  {
   "cell_type": "code",
   "execution_count": null,
   "metadata": {},
   "outputs": [],
   "source": [
    "print(len(mentions_df))\n",
    "mentions_df = mentions_df[mentions_df[\"epoch\"] >= min_epoch]\n",
    "print(len(mentions_df))"
   ]
  },
  {
   "cell_type": "code",
   "execution_count": null,
   "metadata": {},
   "outputs": [],
   "source": [
    "mentions_df.head(3)"
   ]
  },
  {
   "cell_type": "markdown",
   "metadata": {},
   "source": [
    "## b.) Load schedule events\n",
    "\n",
    "\"Canceled\" events are kept because users may mention them anyway"
   ]
  },
  {
   "cell_type": "code",
   "execution_count": null,
   "metadata": {},
   "outputs": [],
   "source": [
    "schedule_df = pd.read_csv(\"../../data/%s_data/raw/%s_schedule_df.csv\" % (dataset_id, dataset_id), sep=sep)"
   ]
  },
  {
   "cell_type": "code",
   "execution_count": null,
   "metadata": {},
   "outputs": [],
   "source": [
    "schedule_df.head(3)"
   ]
  },
  {
   "cell_type": "markdown",
   "metadata": {},
   "source": [
    "## c.) Load tennis player matches"
   ]
  },
  {
   "cell_type": "code",
   "execution_count": null,
   "metadata": {
    "collapsed": true
   },
   "outputs": [],
   "source": [
    "tennis_player_matches = pd.read_csv(\"../../data/%s_data/raw/%s_tennis_player_matches.csv\" % (dataset_id, dataset_id), sep=\"|\")"
   ]
  },
  {
   "cell_type": "code",
   "execution_count": null,
   "metadata": {},
   "outputs": [],
   "source": [
    "tennis_player_matches.head()"
   ]
  },
  {
   "cell_type": "code",
   "execution_count": null,
   "metadata": {
    "collapsed": true
   },
   "outputs": [],
   "source": [
    "players_dict = {}\n",
    "for idx, row in tennis_player_matches.iterrows():\n",
    "    player_name, screen_name = row[\"player_name\"], row[\"screen_name\"]\n",
    "    if not player_name in players_dict:\n",
    "        players_dict[player_name] = []\n",
    "    players_dict[player_name].append(screen_name)"
   ]
  },
  {
   "cell_type": "code",
   "execution_count": null,
   "metadata": {
    "collapsed": true
   },
   "outputs": [],
   "source": [
    "screen_name_to_id = dict(zip(tennis_player_matches[\"screen_name\"],tennis_player_matches[\"generated_id\"]))"
   ]
  },
  {
   "cell_type": "code",
   "execution_count": null,
   "metadata": {
    "collapsed": true
   },
   "outputs": [],
   "source": [
    "screen_name_to_player = dict(zip(tennis_player_matches[\"screen_name\"],tennis_player_matches[\"player_name\"]))"
   ]
  },
  {
   "cell_type": "markdown",
   "metadata": {},
   "source": [
    "## d.) Load recoded user ids\n",
    "\n",
    "**FAKE step:** in this version recoded user id-s are used. So the dictionary below will be an identify mapping"
   ]
  },
  {
   "cell_type": "code",
   "execution_count": null,
   "metadata": {
    "collapsed": true
   },
   "outputs": [],
   "source": [
    "recoder_dict = dict(zip(tennis_player_matches[\"generated_id\"],tennis_player_matches[\"generated_id\"]))"
   ]
  },
  {
   "cell_type": "markdown",
   "metadata": {},
   "source": [
    "# 2. Extract found player accounts for each day"
   ]
  },
  {
   "cell_type": "code",
   "execution_count": null,
   "metadata": {},
   "outputs": [],
   "source": [
    "_, daily_players_df = tpp.get_daily_players(schedule_df, players_dict)"
   ]
  },
  {
   "cell_type": "code",
   "execution_count": null,
   "metadata": {},
   "outputs": [],
   "source": [
    "daily_players_df.head()"
   ]
  },
  {
   "cell_type": "markdown",
   "metadata": {},
   "source": [
    "## Set empty list for days without games"
   ]
  },
  {
   "cell_type": "code",
   "execution_count": null,
   "metadata": {
    "collapsed": true
   },
   "outputs": [],
   "source": [
    "daily_found_player_dict = dict(zip(daily_players_df[\"date\"],daily_players_df[\"found_players\"]))\n",
    "for d in missing_dates:\n",
    "    daily_found_player_dict[d] = []"
   ]
  },
  {
   "cell_type": "code",
   "execution_count": null,
   "metadata": {},
   "outputs": [],
   "source": [
    "daily_found_player_dict[last_date]"
   ]
  },
  {
   "cell_type": "markdown",
   "metadata": {},
   "source": [
    "# 3. Setting date based on timezone"
   ]
  },
  {
   "cell_type": "code",
   "execution_count": null,
   "metadata": {
    "collapsed": true
   },
   "outputs": [],
   "source": [
    "mentions_df[\"date\"] = mentions_df[\"epoch\"].apply(lambda x: pl.epoch2date(x,time_zone))"
   ]
  },
  {
   "cell_type": "code",
   "execution_count": null,
   "metadata": {},
   "outputs": [],
   "source": [
    "mentions_df.head()"
   ]
  },
  {
   "cell_type": "code",
   "execution_count": null,
   "metadata": {
    "collapsed": true
   },
   "outputs": [],
   "source": [
    "collected_dates = sorted(mentions_df[\"date\"].unique())"
   ]
  },
  {
   "cell_type": "code",
   "execution_count": null,
   "metadata": {},
   "outputs": [],
   "source": [
    "collected_dates"
   ]
  },
  {
   "cell_type": "markdown",
   "metadata": {},
   "source": [
    "# 4. Label daily active users\n",
    "\n",
    "   * both players and other users from the Twitter mention dataset\n",
    "   * binary labeling: daily active players get 1 and others 0"
   ]
  },
  {
   "cell_type": "code",
   "execution_count": null,
   "metadata": {
    "collapsed": true
   },
   "outputs": [],
   "source": [
    "use_binary_labels = True\n",
    "if use_binary_labels:\n",
    "    label_value_dict = {\"current\":1.0, \"previous\":0.0, \"next\":0.0}\n",
    "else:\n",
    "    label_value_dict = {\"current\":2.0, \"previous\":1.0, \"next\":1.0}"
   ]
  },
  {
   "cell_type": "code",
   "execution_count": null,
   "metadata": {},
   "outputs": [],
   "source": [
    "mapper_dicts = (recoder_dict, screen_name_to_player, screen_name_to_id, daily_found_player_dict)\n",
    "daily_label_dicts = pl.get_daily_label_dicts(label_value_dict, collected_dates, mentions_df, mapper_dicts, last_date, missing_dates)"
   ]
  },
  {
   "cell_type": "markdown",
   "metadata": {},
   "source": [
    "# 5. Export files"
   ]
  },
  {
   "cell_type": "markdown",
   "metadata": {},
   "source": [
    "## i.) Export daily found players (binary encoding)"
   ]
  },
  {
   "cell_type": "code",
   "execution_count": null,
   "metadata": {},
   "outputs": [],
   "source": [
    "dir_name = \"tennis_players_binary%s\" % use_binary_labels\n",
    "player_output_dir = \"%s/%s\" % (output_prefix, dir_name)\n",
    "print(player_output_dir)"
   ]
  },
  {
   "cell_type": "code",
   "execution_count": null,
   "metadata": {},
   "outputs": [],
   "source": [
    "pl.export_label_files(player_output_dir, collected_dates, daily_label_dicts, last_date, only_pos_label=True)"
   ]
  },
  {
   "cell_type": "markdown",
   "metadata": {},
   "source": [
    "## ii.) Export the ids of the found players"
   ]
  },
  {
   "cell_type": "markdown",
   "metadata": {},
   "source": [
    "### Filtering player account for only those who are present in the dataset:\n",
    "\n",
    "   * many players who participated in Roland Garros 2017 are not present in USOpen17"
   ]
  },
  {
   "cell_type": "code",
   "execution_count": null,
   "metadata": {},
   "outputs": [],
   "source": [
    "pl.export_recoded_player_ids(player_output_dir, screen_name_to_id, screen_name_to_player, recoder_dict)"
   ]
  },
  {
   "cell_type": "markdown",
   "metadata": {},
   "source": [
    "## iii.) Export dictionaries"
   ]
  },
  {
   "cell_type": "markdown",
   "metadata": {
    "collapsed": true
   },
   "source": [
    "with open(\"%s/recoder_dict.txt\" % player_output_dir, 'w') as f:\n",
    "    for k in sorted(recoder_dict.keys()):\n",
    "        f.write(\"%i %i\\n\" % (k, recoder_dict[k]))"
   ]
  },
  {
   "cell_type": "markdown",
   "metadata": {
    "collapsed": true
   },
   "source": [
    "with open(\"%s/screen_name_to_player.txt\" % player_output_dir, 'w') as f:\n",
    "    for k in sorted(screen_name_to_player.keys()):\n",
    "        f.write(\"%s %s\\n\" % (k, screen_name_to_player[k]))"
   ]
  }
 ],
 "metadata": {
  "anaconda-cloud": {},
  "kernelspec": {
   "display_name": "Python [default]",
   "language": "python",
   "name": "python3"
  },
  "language_info": {
   "codemirror_mode": {
    "name": "ipython",
    "version": 3
   },
   "file_extension": ".py",
   "mimetype": "text/x-python",
   "name": "python",
   "nbconvert_exporter": "python",
   "pygments_lexer": "ipython3",
   "version": "3.5.4"
  }
 },
 "nbformat": 4,
 "nbformat_minor": 2
}
