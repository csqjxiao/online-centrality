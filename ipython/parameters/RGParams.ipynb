{
 "cells": [
  {
   "cell_type": "code",
   "execution_count": null,
   "metadata": {
    "collapsed": true
   },
   "outputs": [],
   "source": [
    "import sys\n",
    "sys.path.insert(0,\"../../python/\")\n",
    "from parametrization import ConfigGenerator"
   ]
  },
  {
   "cell_type": "markdown",
   "metadata": {},
   "source": [
    "# Initialize configuration generator"
   ]
  },
  {
   "cell_type": "code",
   "execution_count": null,
   "metadata": {
    "collapsed": true
   },
   "outputs": [],
   "source": [
    "pipeline_cfg_file = \"../../pipelines/Evaluation.json\""
   ]
  },
  {
   "cell_type": "code",
   "execution_count": null,
   "metadata": {
    "collapsed": true
   },
   "outputs": [],
   "source": [
    "cg = ConfigGenerator(pipeline_cfg_file)"
   ]
  },
  {
   "cell_type": "markdown",
   "metadata": {},
   "source": [
    "# Setting default parameters for pipeline"
   ]
  },
  {
   "cell_type": "code",
   "execution_count": null,
   "metadata": {
    "collapsed": true
   },
   "outputs": [],
   "source": [
    "DEFAULTS = {}"
   ]
  },
  {
   "cell_type": "markdown",
   "metadata": {},
   "source": [
    "#### Set your default parameters below:"
   ]
  },
  {
   "cell_type": "code",
   "execution_count": null,
   "metadata": {
    "collapsed": true
   },
   "outputs": [],
   "source": [
    "%%bash\n",
    "pwd > cur_dir.tmp"
   ]
  },
  {
   "cell_type": "code",
   "execution_count": null,
   "metadata": {
    "collapsed": true
   },
   "outputs": [],
   "source": [
    "with open(\"cur_dir.tmp\") as f:\n",
    "    cur_dir = f.read()\n",
    "git_repo_path = '/'.join(cur_dir.split(\"/\")[:-2])"
   ]
  },
  {
   "cell_type": "code",
   "execution_count": null,
   "metadata": {
    "collapsed": true
   },
   "outputs": [],
   "source": [
    "%%bash\n",
    "rm cur_dir.tmp"
   ]
  },
  {
   "cell_type": "code",
   "execution_count": null,
   "metadata": {
    "collapsed": true
   },
   "outputs": [],
   "source": [
    "DEFAULTS[\"rg_root_dir\"] = \"%s/results/\" % git_repo_path"
   ]
  },
  {
   "cell_type": "code",
   "execution_count": null,
   "metadata": {
    "collapsed": true
   },
   "outputs": [],
   "source": [
    "DEFAULTS[\"is_detailed_relabel\"] = False"
   ]
  },
  {
   "cell_type": "code",
   "execution_count": null,
   "metadata": {
    "collapsed": true
   },
   "outputs": [],
   "source": [
    "DEFAULTS[\"norm_factor\"] = [1.0*3600*i for i in [1,2,4,6,9,12,24]]\n",
    "DEFAULTS[\"norm_factor\"]"
   ]
  },
  {
   "cell_type": "code",
   "execution_count": null,
   "metadata": {
    "collapsed": true
   },
   "outputs": [],
   "source": [
    "DEFAULTS[\"num_of_threads\"] = 1"
   ]
  },
  {
   "cell_type": "markdown",
   "metadata": {},
   "source": [
    "### Experiment types"
   ]
  },
  {
   "cell_type": "code",
   "execution_count": null,
   "metadata": {
    "collapsed": true
   },
   "outputs": [],
   "source": [
    "def fill_param_dict(param_dict, is_daily_experiment, is_merged_experiment=False):\n",
    "    tennis_player_path_postfix =  \"/tennis_players/\"\n",
    "    if is_daily_experiment:\n",
    "        experiment_path_postfix = \"/daily/\" \n",
    "        param_dict[\"delta\"] = 86400\n",
    "        param_dict[\"num_of_intervals\"] = 19\n",
    "        param_dict[\"static_lookbacks\"] = [0,1,2,3]\n",
    "    else:\n",
    "        experiment_path_postfix = \"/hourly/\" \n",
    "        param_dict[\"delta\"] = 3600\n",
    "        param_dict[\"num_of_intervals\"] = 24*19\n",
    "        param_dict[\"static_lookbacks\"] = [0,1,12]\n",
    "    param_dict[\"experiment_path\"] = DEFAULTS[\"rg_root_dir\"] + experiment_path_postfix\n",
    "    param_dict[\"tennis_players_source_path\"] = \"%s/data/preprocessed/\" % git_repo_path + tennis_player_path_postfix\n",
    "    return param_dict"
   ]
  },
  {
   "cell_type": "code",
   "execution_count": null,
   "metadata": {
    "collapsed": true
   },
   "outputs": [],
   "source": [
    "DEFAULTS = fill_param_dict(DEFAULTS,is_daily_experiment=False)"
   ]
  },
  {
   "cell_type": "markdown",
   "metadata": {},
   "source": [
    "## Experimenting with mean predictive performance  - Use only one of the following settings!!!"
   ]
  },
  {
   "cell_type": "markdown",
   "metadata": {},
   "source": [
    "### Optimal score parameters\n",
    "\n",
    "Comment out this cell out if you want to run a cell below instead!"
   ]
  },
  {
   "cell_type": "code",
   "execution_count": null,
   "metadata": {
    "collapsed": true
   },
   "outputs": [],
   "source": [
    "score_folders = []\n",
    "score_folders += ['olr_a0.05_Ray(s1.000,n:%.3f)' % n for n in [7200]]\n",
    "score_folders += ['olr_a0.05_Exp(b:0.250,n:%.3f)' % n for n in [3600]]\n",
    "score_folders += [\"tpr_a0.50_b%.2f\" % i for i in [0.9]]\n",
    "score_folders += ['spr_snapshot_%i_a0.95_i100' % i for i in [1,12]]\n",
    "score_folders += ['indeg_snapshot_%i' % i for i in [1,12]]\n",
    "score_folders += ['hc_snapshot_%i' % i for i in [1,12]]\n",
    "score_folders += ['nbm_snapshot_%i' % i for i in [1,12]]\n",
    "param_update = {\"is_detailed_relabel\":True,\"img_dir\":\"optimal\",\"score_folders\":score_folders}\n",
    "DEFAULTS.update(param_update)"
   ]
  },
  {
   "cell_type": "markdown",
   "metadata": {},
   "source": [
    "### a.) OnlineRank testing"
   ]
  },
  {
   "cell_type": "markdown",
   "metadata": {},
   "source": [
    "#### Rayleigh weight functions"
   ]
  },
  {
   "cell_type": "markdown",
   "metadata": {
    "collapsed": true
   },
   "source": [
    "score_folders = []\n",
    "score_folders += [\"olr_a0.05_Const(1.00)\"]\n",
    "score_folders += ['olr_a0.05_Ray(s1.000,n:%.3f)' % n for n in [3600*i for i in [1,2,4,6,9,12,24]]]\n",
    "param_update = {\"img_dir\":\"olr_ray\",\"score_folders\":score_folders,\"title_text\":\"of Online Centrality models with Rayleigh weight function\"}\n",
    "DEFAULTS.update(param_update)"
   ]
  },
  {
   "cell_type": "markdown",
   "metadata": {
    "collapsed": true
   },
   "source": [
    "score_folders = []\n",
    "score_folders += [\"olr_a0.05_Const(1.00)\"]\n",
    "score_folders = ['olr_a0.05_Ray(s%.3f,n:7200.000)' % s for s in [0.6,0.8,1.0,1.2,1.4]]\n",
    "param_update = {\"is_detailed_relabel\":True,\"img_dir\":\"olr_ray_sigma\",\"score_folders\":score_folders,\"title_text\":\"of Online Centrality models with Rayleigh weight function\"}\n",
    "DEFAULTS.update(param_update)"
   ]
  },
  {
   "cell_type": "markdown",
   "metadata": {},
   "source": [
    "#### Exponential weight functions"
   ]
  },
  {
   "cell_type": "markdown",
   "metadata": {
    "collapsed": true
   },
   "source": [
    "score_folders = []\n",
    "score_folders += [\"olr_a0.05_Const(1.00)\"]\n",
    "score_folders += ['olr_a0.05_Exp(b:0.500,n:%.3f)' % n for n in [3600*i for i in [1,2,4,6,9,12,24]]]\n",
    "param_update = {\"is_detailed_relabel\":True,\"img_dir\":\"olr_exp\",\"score_folders\":score_folders,\"title_text\":\"of Online Centrality models with Exponential weight function\"}\n",
    "DEFAULTS.update(param_update)"
   ]
  },
  {
   "cell_type": "markdown",
   "metadata": {
    "collapsed": true
   },
   "source": [
    "score_folders = []\n",
    "score_folders += [\"olr_a0.05_Const(1.00)\"]\n",
    "score_folders += ['olr_a0.05_Exp(b:0.250,n:%.3f)' % n for n in [3600*i for i in [1,2,4,6,9,12,24]]]\n",
    "param_update = {\"is_detailed_relabel\":True,\"img_dir\":\"olr_exp_beta\",\"score_folders\":score_folders,\"title_text\":\"of Online Centrality models with Exponential weight function\"}\n",
    "DEFAULTS.update(param_update)"
   ]
  },
  {
   "cell_type": "markdown",
   "metadata": {},
   "source": [
    "### b.) Temporal PageRank"
   ]
  },
  {
   "cell_type": "markdown",
   "metadata": {
    "collapsed": true
   },
   "source": [
    "score_folders = []\n",
    "score_folders += [\"tpr_a0.85_b%.2f\" % i for i in [0.0,0.01,0.05,0.1,0.3,0.5,0.9]]\n",
    "param_update = {\"img_dir\":\"tpr\",\"score_folders\":score_folders}\n",
    "DEFAULTS.update(param_update)"
   ]
  },
  {
   "cell_type": "markdown",
   "metadata": {
    "collapsed": true
   },
   "source": [
    "score_folders = []\n",
    "score_folders += [\"tpr_a%.2f_b0.90\" % i for i in [0.25,0.5,0.85,0.95]]\n",
    "param_update = {\"is_detailed_relabel\":True,\"img_dir\":\"tpr_alpha\",\"score_folders\":score_folders}\n",
    "DEFAULTS.update(param_update)"
   ]
  },
  {
   "cell_type": "markdown",
   "metadata": {},
   "source": [
    "### c.) Static PageRank"
   ]
  },
  {
   "cell_type": "markdown",
   "metadata": {
    "collapsed": true
   },
   "source": [
    "score_folders = []\n",
    "score_folders += ['spr_total_a0.85_i50']\n",
    "score_folders += ['spr_snapshot_%i_a0.85_i50' % i for i in [1,2,4,6,9,12,24]]\n",
    "param_update = {\"img_dir\":\"spr\",\"score_folders\":score_folders}\n",
    "DEFAULTS.update(param_update)"
   ]
  },
  {
   "cell_type": "markdown",
   "metadata": {
    "collapsed": true
   },
   "source": [
    "score_folders = ['spr_snapshot_12_a0.85_i50']\n",
    "score_folders += ['spr_snapshot_12_a%.2f_i100' % i for i in [0.25,0.5,0.85,0.95]]\n",
    "param_update = {\"is_detailed_relabel\":True,\"img_dir\":\"spr_alpha\",\"score_folders\":score_folders}\n",
    "DEFAULTS.update(param_update)"
   ]
  },
  {
   "cell_type": "markdown",
   "metadata": {},
   "source": [
    "### d.) Static Indegree"
   ]
  },
  {
   "cell_type": "markdown",
   "metadata": {
    "collapsed": true
   },
   "source": [
    "score_folders = []\n",
    "score_folders += ['indeg_total']\n",
    "score_folders += ['indeg_snapshot_%i' % i for i in [1,2,4,6,9,12,24]]\n",
    "param_update = {\"img_dir\":\"indeg\",\"img_dir\":\"indeg\",\"score_folders\":score_folders}\n",
    "DEFAULTS.update(param_update)"
   ]
  },
  {
   "cell_type": "markdown",
   "metadata": {},
   "source": [
    "### e.) Static Negativ beta-measure"
   ]
  },
  {
   "cell_type": "markdown",
   "metadata": {
    "collapsed": true
   },
   "source": [
    "score_folders = []\n",
    "score_folders += ['nbm_total']\n",
    "score_folders += ['nbm_snapshot_%i' % i for i in [1,2,4,6,9,12,24]]\n",
    "param_update = {\"img_dir\":\"nbm\",\"score_folders\":score_folders}\n",
    "DEFAULTS.update(param_update)"
   ]
  },
  {
   "cell_type": "markdown",
   "metadata": {},
   "source": [
    "### f.) Static Harmonic Centrality"
   ]
  },
  {
   "cell_type": "markdown",
   "metadata": {
    "collapsed": true
   },
   "source": [
    "score_folders = []\n",
    "score_folders += ['hc_total']\n",
    "score_folders += ['hc_snapshot_%i' % i for i in [1,2,4,6,9,12,24]]\n",
    "param_update = {\"img_dir\":\"hc\",\"score_folders\":score_folders}\n",
    "DEFAULTS.update(param_update)"
   ]
  },
  {
   "cell_type": "markdown",
   "metadata": {},
   "source": [
    "# Export parameters into pipeline configuration file\n",
    "\n",
    "**Configuration file path:** \"../../pipelines/Evaluation.json\""
   ]
  },
  {
   "cell_type": "code",
   "execution_count": null,
   "metadata": {
    "collapsed": true
   },
   "outputs": [],
   "source": [
    "cg.load_params(DEFAULTS)"
   ]
  },
  {
   "cell_type": "code",
   "execution_count": null,
   "metadata": {
    "collapsed": true
   },
   "outputs": [],
   "source": [
    "cg.save()"
   ]
  }
 ],
 "metadata": {
  "anaconda-cloud": {},
  "kernelspec": {
   "display_name": "Python [default]",
   "language": "python",
   "name": "python3"
  },
  "language_info": {
   "codemirror_mode": {
    "name": "ipython",
    "version": 3
   },
   "file_extension": ".py",
   "mimetype": "text/x-python",
   "name": "python",
   "nbconvert_exporter": "python",
   "pygments_lexer": "ipython3",
   "version": "3.5.3"
  }
 },
 "nbformat": 4,
 "nbformat_minor": 1
}