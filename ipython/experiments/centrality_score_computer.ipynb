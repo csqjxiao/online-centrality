{
 "cells": [
  {
   "cell_type": "code",
   "execution_count": null,
   "metadata": {
    "collapsed": true
   },
   "outputs": [],
   "source": [
    "import numpy as np"
   ]
  },
  {
   "cell_type": "code",
   "execution_count": null,
   "metadata": {
    "collapsed": true
   },
   "outputs": [],
   "source": [
    "import sys\n",
    "sys.path.insert(0,\"../../python/\")\n",
    "from parametrization import ParamHelper"
   ]
  },
  {
   "cell_type": "code",
   "execution_count": null,
   "metadata": {
    "collapsed": true
   },
   "outputs": [],
   "source": [
    "import simulator_utils.graph_simulator as gsim"
   ]
  },
  {
   "cell_type": "code",
   "execution_count": null,
   "metadata": {
    "collapsed": true
   },
   "outputs": [],
   "source": [
    "import centrality_utils.weight_funtions as wf \n",
    "import centrality_utils.online_rank_computer as olrc\n",
    "import centrality_utils.temporal_pagerank as tprc\n",
    "import centrality_utils.static_pagerank_computer as sprc\n",
    "import centrality_utils.static_indegree_computer as sidc\n",
    "import centrality_utils.static_negative_beta_measure_computer as snbmc\n",
    "import centrality_utils.static_harmonic_centrality_computer as shcc\n",
    "from centrality_utils.online_rank_computer import link2str"
   ]
  },
  {
   "cell_type": "markdown",
   "metadata": {},
   "source": [
    "# 1. Load Parameters"
   ]
  },
  {
   "cell_type": "code",
   "execution_count": null,
   "metadata": {
    "collapsed": true
   },
   "outputs": [],
   "source": [
    "ph = ParamHelper(\"../../pipelines/OnlineCentrality.json\", \"ipython/experiments/centrality_score_computer.ipynb\")"
   ]
  },
  {
   "cell_type": "code",
   "execution_count": null,
   "metadata": {
    "collapsed": true
   },
   "outputs": [],
   "source": [
    "file_prefix = ph.get(\"data_file_prefix\")\n",
    "score_output_prefix = ph.get(\"score_folder_prefix\")\n",
    "dataset_id = ph.get(\"dataset_id\")\n",
    "time_type = ph.get(\"time_type\")\n",
    "experiment_path = ph.get(\"experiment_path\")\n",
    "min_epoch = ph.get(\"min_epoch\")"
   ]
  },
  {
   "cell_type": "code",
   "execution_count": null,
   "metadata": {
    "collapsed": true
   },
   "outputs": [],
   "source": [
    "print(experiment_path)"
   ]
  },
  {
   "cell_type": "code",
   "execution_count": null,
   "metadata": {
    "collapsed": true
   },
   "outputs": [],
   "source": [
    "if time_type == \"index\":\n",
    "    index_threshold = ph.get(\"edge_index_threshold\")\n",
    "    delta = ph.get(\"edge_delta\")\n",
    "else:\n",
    "    index_threshold = ph.get(\"day_index_threshold\")\n",
    "    delta = ph.get(\"epoch_delta\")\n",
    "num_of_intervals_plus_one = ph.get(\"day_index_threshold\")\n",
    "print(delta,index_threshold)"
   ]
  },
  {
   "cell_type": "markdown",
   "metadata": {},
   "source": [
    "# 2. Load Graph Data "
   ]
  },
  {
   "cell_type": "code",
   "execution_count": null,
   "metadata": {
    "collapsed": true
   },
   "outputs": [],
   "source": [
    "data_path = file_prefix + '/%s_mentions.csv' % dataset_id\n",
    "data = np.loadtxt(data_path, delimiter=' ', dtype='i')\n",
    "print('%s dataset were loaded.' % dataset_id)\n",
    "print('Number of edges in data: %i.' % len(data))"
   ]
  },
  {
   "cell_type": "code",
   "execution_count": null,
   "metadata": {
    "collapsed": true
   },
   "outputs": [],
   "source": [
    "data[:5]"
   ]
  },
  {
   "cell_type": "markdown",
   "metadata": {},
   "source": [
    "## a.) exclude early information"
   ]
  },
  {
   "cell_type": "code",
   "execution_count": null,
   "metadata": {
    "collapsed": true
   },
   "outputs": [],
   "source": [
    "selector = data[:,0] >= min_epoch\n",
    "data = data[selector,:]\n",
    "print('Number of edges in data after excluding edges below epoch %i: %i.' % (min_epoch,len(data)))"
   ]
  },
  {
   "cell_type": "markdown",
   "metadata": {},
   "source": [
    "## b.) preprocessing nodes and edges"
   ]
  },
  {
   "cell_type": "code",
   "execution_count": null,
   "metadata": {
    "collapsed": true
   },
   "outputs": [],
   "source": [
    "src_unique = np.unique(data[:,1])\n",
    "trg_unique = np.unique(data[:,2])\n",
    "nodes = np.unique(np.concatenate((src_unique,trg_unique)))\n",
    "edges = [link2str(link) for link in data[:,1:3].tolist()] # element must be string to be hashable\n",
    "len(nodes), len(edges)"
   ]
  },
  {
   "cell_type": "code",
   "execution_count": null,
   "metadata": {
    "collapsed": true
   },
   "outputs": [],
   "source": [
    "edges[:3]"
   ]
  },
  {
   "cell_type": "markdown",
   "metadata": {},
   "source": [
    "# 3. Compute online centraliy measures"
   ]
  },
  {
   "cell_type": "markdown",
   "metadata": {},
   "source": [
    "## a.) Setting parameters"
   ]
  },
  {
   "cell_type": "code",
   "execution_count": null,
   "metadata": {
    "collapsed": true
   },
   "outputs": [],
   "source": [
    "olr_params, tpr_params, pr_params, indeg_params, nbm_params, hc_params = [], [], [], [], [], []\n",
    "gsim_params = []"
   ]
  },
  {
   "cell_type": "code",
   "execution_count": null,
   "metadata": {
    "collapsed": true
   },
   "outputs": [],
   "source": [
    "norm_factors = [3600.0 * i for i in [1,2,4,5,6,9,10,12,24]]\n",
    "print(norm_factors)"
   ]
  },
  {
   "cell_type": "markdown",
   "metadata": {},
   "source": [
    "#### If you want to compute static centralities for the total graph use static_lookback value 0!"
   ]
  },
  {
   "cell_type": "code",
   "execution_count": null,
   "metadata": {
    "collapsed": true
   },
   "outputs": [],
   "source": [
    "if delta == 3600:\n",
    "    static_lookbacks = [0, 1, 12]\n",
    "else:\n",
    "    static_lookbacks = [0, 1]"
   ]
  },
  {
   "cell_type": "markdown",
   "metadata": {},
   "source": [
    "### Select parameters for OnlineRankComputer"
   ]
  },
  {
   "cell_type": "code",
   "execution_count": null,
   "metadata": {
    "collapsed": true
   },
   "outputs": [],
   "source": [
    "olr_params = []\n",
    "olr_params += [olrc.OnlineRankParams(0.05,wf.ConstantWeighter(1.0))]\n",
    "olr_params += [olrc.OnlineRankParams(0.05,wf.RayleighWeighter(norm=n)) for n in norm_factors]\n",
    "olr_params += [olrc.OnlineRankParams(0.05,wf.ExponentialWeighter(base=0.25,norm=n)) for n in norm_factors]"
   ]
  },
  {
   "cell_type": "code",
   "execution_count": null,
   "metadata": {
    "collapsed": true
   },
   "outputs": [],
   "source": [
    "if len(olr_params) > 0:\n",
    "    if time_type == \"index\":\n",
    "        gsim_params.append(olrc.OnlineRankComputer(nodes,edges,olr_params))\n",
    "    else:\n",
    "        gsim_params.append(olrc.OnlineRankComputer(nodes,edges,olr_params,min_time=min_epoch))"
   ]
  },
  {
   "cell_type": "markdown",
   "metadata": {},
   "source": [
    "### Select parameters for TemporalPageRankComputer"
   ]
  },
  {
   "cell_type": "code",
   "execution_count": null,
   "metadata": {
    "collapsed": true
   },
   "outputs": [],
   "source": [
    "tpr_params += [tprc.TemporalPageRankParams(alpha=0.5,beta=0.9)] "
   ]
  },
  {
   "cell_type": "code",
   "execution_count": null,
   "metadata": {
    "collapsed": true
   },
   "outputs": [],
   "source": [
    "if len(tpr_params) > 0:\n",
    "    gsim_params.append(tprc.TemporalPageRankComputer(nodes,tpr_params))"
   ]
  },
  {
   "cell_type": "markdown",
   "metadata": {},
   "source": [
    "### Select parameters for StaticPageRankComputer"
   ]
  },
  {
   "cell_type": "code",
   "execution_count": null,
   "metadata": {
    "collapsed": true
   },
   "outputs": [],
   "source": [
    "pr_params += [sprc.StaticPageRankParams(lookback_cnt=l,alpha=0.95,max_iter=100) for l in static_lookbacks]"
   ]
  },
  {
   "cell_type": "code",
   "execution_count": null,
   "metadata": {
    "collapsed": true
   },
   "outputs": [],
   "source": [
    "if len(pr_params) > 0:\n",
    "    gsim_params.append(sprc.StaticPageRankComputer(pr_params))"
   ]
  },
  {
   "cell_type": "markdown",
   "metadata": {},
   "source": [
    "### Select parameters for StaticIndegreeComputer"
   ]
  },
  {
   "cell_type": "code",
   "execution_count": null,
   "metadata": {
    "collapsed": true
   },
   "outputs": [],
   "source": [
    "indeg_params += [sidc.StaticIndegreeParams(lookback_cnt=l) for l in static_lookbacks]"
   ]
  },
  {
   "cell_type": "code",
   "execution_count": null,
   "metadata": {
    "collapsed": true
   },
   "outputs": [],
   "source": [
    "if len(indeg_params) > 0:\n",
    "    gsim_params.append(sidc.StaticIndegreeComputer(indeg_params))"
   ]
  },
  {
   "cell_type": "markdown",
   "metadata": {},
   "source": [
    "### Select parameters for StaticNegativeBetaMeasureComputer"
   ]
  },
  {
   "cell_type": "code",
   "execution_count": null,
   "metadata": {
    "collapsed": true
   },
   "outputs": [],
   "source": [
    "nbm_params += [snbmc.StaticNegativeBetaMeasureParams(lookback_cnt=l) for l in static_lookbacks]"
   ]
  },
  {
   "cell_type": "code",
   "execution_count": null,
   "metadata": {
    "collapsed": true
   },
   "outputs": [],
   "source": [
    "if len(nbm_params) > 0:\n",
    "    gsim_params.append(snbmc.StaticNegativeBetaMeasureComputer(nbm_params))"
   ]
  },
  {
   "cell_type": "markdown",
   "metadata": {},
   "source": [
    "### Select parameters for StaticHarmonicCentralityComputer"
   ]
  },
  {
   "cell_type": "code",
   "execution_count": null,
   "metadata": {
    "collapsed": true
   },
   "outputs": [],
   "source": [
    "#exclude computation on the total graph: it takes a lot of time\n",
    "hc_params += [shcc.StaticHarmonicCentralityParams(lookback_cnt=l) for l in static_lookbacks[1:]]"
   ]
  },
  {
   "cell_type": "code",
   "execution_count": null,
   "metadata": {
    "collapsed": true
   },
   "outputs": [],
   "source": [
    "if len(nbm_params) > 0:\n",
    "    gsim_params.append(shcc.StaticHarmonicCentralityComputer(hc_params))"
   ]
  },
  {
   "cell_type": "markdown",
   "metadata": {},
   "source": [
    "## b.) Compute all online scores with one graph simulation"
   ]
  },
  {
   "cell_type": "code",
   "execution_count": null,
   "metadata": {
    "collapsed": true
   },
   "outputs": [],
   "source": [
    "boundaries = min_epoch + np.array([delta*i for i in range(1,num_of_intervals_plus_one)])\n",
    "len(boundaries)"
   ]
  },
  {
   "cell_type": "code",
   "execution_count": null,
   "metadata": {
    "collapsed": true,
    "scrolled": true
   },
   "outputs": [],
   "source": [
    "%%time\n",
    "gsim_obj = gsim.OnlineGraphSimulator(data, time_type=time_type, verbose=True)\n",
    "experiment_graph_stats = gsim_obj.run_with_boundaries(gsim_params,boundaries,experiment_path,max_index=index_threshold)"
   ]
  }
 ],
 "metadata": {
  "anaconda-cloud": {},
  "kernelspec": {
   "display_name": "Python [default]",
   "language": "python",
   "name": "python3"
  },
  "language_info": {
   "codemirror_mode": {
    "name": "ipython",
    "version": 3
   },
   "file_extension": ".py",
   "mimetype": "text/x-python",
   "name": "python",
   "nbconvert_exporter": "python",
   "pygments_lexer": "ipython3",
   "version": "3.5.3"
  }
 },
 "nbformat": 4,
 "nbformat_minor": 1
}