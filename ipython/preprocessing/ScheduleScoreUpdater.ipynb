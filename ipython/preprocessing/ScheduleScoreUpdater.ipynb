{
 "cells": [
  {
   "cell_type": "code",
   "execution_count": null,
   "metadata": {
    "collapsed": true
   },
   "outputs": [],
   "source": [
    "import numpy as np\n",
    "import pandas as pd\n",
    "import json, datetime, sys, os\n",
    "from collections import Counter"
   ]
  },
  {
   "cell_type": "code",
   "execution_count": null,
   "metadata": {
    "collapsed": true
   },
   "outputs": [],
   "source": [
    "sys.path.insert(0,\"../../python\")\n",
    "from centrality_utils.base_computer import scores2file"
   ]
  },
  {
   "cell_type": "markdown",
   "metadata": {},
   "source": [
    "# 1. Parse HTML schedule files"
   ]
  },
  {
   "cell_type": "code",
   "execution_count": null,
   "metadata": {
    "collapsed": true
   },
   "outputs": [],
   "source": [
    "%%bash\n",
    "pushd ../../\n",
    "mkdir -p ./data/preprocessed\n",
    "echo \"Parsing HTML files...\"\n",
    "python ./scripts/roland_garross_schedule_parser.py\n",
    "popd"
   ]
  },
  {
   "cell_type": "markdown",
   "metadata": {},
   "source": [
    "# 2. Load data"
   ]
  },
  {
   "cell_type": "code",
   "execution_count": null,
   "metadata": {
    "collapsed": true
   },
   "outputs": [],
   "source": [
    "output_prefix = \"../../data/preprocessed/\""
   ]
  },
  {
   "cell_type": "markdown",
   "metadata": {},
   "source": [
    "## a.) Load mention events"
   ]
  },
  {
   "cell_type": "code",
   "execution_count": null,
   "metadata": {
    "collapsed": true
   },
   "outputs": [],
   "source": [
    "mentions_df = pd.read_csv(\"../../data/raw/rg17_mentions.csv\", sep=\" \", names=[\"epoch\",\"src\",\"trg\"])"
   ]
  },
  {
   "cell_type": "code",
   "execution_count": null,
   "metadata": {
    "collapsed": true
   },
   "outputs": [],
   "source": [
    "mentions_df.head(3)"
   ]
  },
  {
   "cell_type": "code",
   "execution_count": null,
   "metadata": {
    "collapsed": true
   },
   "outputs": [],
   "source": [
    "len(mentions_df)"
   ]
  },
  {
   "cell_type": "markdown",
   "metadata": {},
   "source": [
    "## b.) Load schedule events"
   ]
  },
  {
   "cell_type": "code",
   "execution_count": null,
   "metadata": {
    "collapsed": true
   },
   "outputs": [],
   "source": [
    "schedule_df = pd.read_csv(\"../../data/preprocessed/schedule_df.csv\", sep=\"|\")"
   ]
  },
  {
   "cell_type": "code",
   "execution_count": null,
   "metadata": {
    "collapsed": true
   },
   "outputs": [],
   "source": [
    "schedule_df.head(3)"
   ]
  },
  {
   "cell_type": "markdown",
   "metadata": {},
   "source": [
    "## c.) Load tennis player matches"
   ]
  },
  {
   "cell_type": "code",
   "execution_count": null,
   "metadata": {
    "collapsed": true
   },
   "outputs": [],
   "source": [
    "tennis_player_matches = pd.read_csv(\"../../data/raw/tennis_player_matches.csv\", sep=\"|\")"
   ]
  },
  {
   "cell_type": "code",
   "execution_count": null,
   "metadata": {
    "collapsed": true
   },
   "outputs": [],
   "source": [
    "tennis_player_matches.head()"
   ]
  },
  {
   "cell_type": "code",
   "execution_count": null,
   "metadata": {
    "collapsed": true
   },
   "outputs": [],
   "source": [
    "players_dict = {}\n",
    "for idx, row in tennis_player_matches.iterrows():\n",
    "    player_name, screen_name = row[\"player_name\"], row[\"screen_name\"]\n",
    "    if not player_name in players_dict:\n",
    "        players_dict[player_name] = []\n",
    "    players_dict[player_name].append(screen_name)"
   ]
  },
  {
   "cell_type": "code",
   "execution_count": null,
   "metadata": {
    "collapsed": true
   },
   "outputs": [],
   "source": [
    "screen_name_to_player = dict(zip(tennis_player_matches[\"screen_name\"],tennis_player_matches[\"player_name\"]))"
   ]
  },
  {
   "cell_type": "code",
   "execution_count": null,
   "metadata": {
    "collapsed": true
   },
   "outputs": [],
   "source": [
    "generated_id_to_player = dict(zip(tennis_player_matches[\"generated_id\"],tennis_player_matches[\"player_name\"]))"
   ]
  },
  {
   "cell_type": "markdown",
   "metadata": {},
   "source": [
    "#### sanity check (VERIFIED - there is 61 multiplied account)"
   ]
  },
  {
   "cell_type": "code",
   "execution_count": null,
   "metadata": {
    "collapsed": true
   },
   "outputs": [],
   "source": [
    "multiple_acc_count = 0\n",
    "for name in players_dict:\n",
    "    if len(players_dict[name]) > 1:\n",
    "        multiple_acc_count += len(players_dict[name]) - 1\n",
    "print(multiple_acc_count, len(players_dict) + multiple_acc_count)"
   ]
  },
  {
   "cell_type": "markdown",
   "metadata": {},
   "source": [
    "# 3. Extract found player accounts for each day"
   ]
  },
  {
   "cell_type": "code",
   "execution_count": null,
   "metadata": {
    "collapsed": true
   },
   "outputs": [],
   "source": [
    "daily_players = {}\n",
    "for index, row in schedule_df.iterrows():\n",
    "    date, winner, loser = row[\"date\"], row[\"playerName active\"], row[\"playerName opponent\"]\n",
    "    court, match = row[\"courtName\"], row[\"orderNumber\"]\n",
    "    match_id = \"%s_%i\" % (court, match)\n",
    "    if not date in daily_players:\n",
    "        daily_players[date] = {}\n",
    "    daily_players[date][winner] = match_id\n",
    "    daily_players[date][loser] = match_id\n",
    "        \n",
    "daily_players_grouped = [(key, list(daily_players[key].keys())) for key in daily_players]\n",
    "daily_players_df = pd.DataFrame(daily_players_grouped, columns=[\"date\", \"players\"])\n",
    "daily_players_df = daily_players_df.sort_values(\"date\")"
   ]
  },
  {
   "cell_type": "markdown",
   "metadata": {},
   "source": [
    "### Filter for found player accounts"
   ]
  },
  {
   "cell_type": "code",
   "execution_count": null,
   "metadata": {
    "collapsed": true
   },
   "outputs": [],
   "source": [
    "daily_players_df[\"found_players\"] = daily_players_df[\"players\"].apply(lambda p_list: [p for p in p_list if p in players_dict])"
   ]
  },
  {
   "cell_type": "code",
   "execution_count": null,
   "metadata": {
    "collapsed": true
   },
   "outputs": [],
   "source": [
    "daily_players_df.head()"
   ]
  },
  {
   "cell_type": "code",
   "execution_count": null,
   "metadata": {
    "collapsed": true
   },
   "outputs": [],
   "source": [
    "daily_found_player_dict = dict(zip(daily_players_df[\"date\"],daily_players_df[\"found_players\"]))"
   ]
  },
  {
   "cell_type": "code",
   "execution_count": null,
   "metadata": {
    "collapsed": true
   },
   "outputs": [],
   "source": [
    "daily_found_player_dict[\"2017-06-06\"]"
   ]
  },
  {
   "cell_type": "markdown",
   "metadata": {},
   "source": [
    "# 4. Extract daily active users"
   ]
  },
  {
   "cell_type": "code",
   "execution_count": null,
   "metadata": {
    "collapsed": true
   },
   "outputs": [],
   "source": [
    "def epoch2date(epoch):\n",
    "    dt = datetime.datetime.fromtimestamp(epoch)\n",
    "    return \"%i-%.2i-%.2i\" % (dt.year, dt.month, dt.day)\n",
    "\n",
    "epoch2date(1498431714)"
   ]
  },
  {
   "cell_type": "code",
   "execution_count": null,
   "metadata": {
    "collapsed": true
   },
   "outputs": [],
   "source": [
    "mentions_df[\"date\"] = mentions_df[\"epoch\"].apply(epoch2date)"
   ]
  },
  {
   "cell_type": "code",
   "execution_count": null,
   "metadata": {
    "collapsed": true
   },
   "outputs": [],
   "source": [
    "mentions_df.head()"
   ]
  },
  {
   "cell_type": "code",
   "execution_count": null,
   "metadata": {
    "collapsed": true
   },
   "outputs": [],
   "source": [
    "collected_dates = mentions_df[\"date\"].unique()"
   ]
  },
  {
   "cell_type": "code",
   "execution_count": null,
   "metadata": {
    "collapsed": true
   },
   "outputs": [],
   "source": [
    "def get_active_users(df):\n",
    "    return list(set(df[\"src\"]).union(set(df[\"trg\"])))"
   ]
  },
  {
   "cell_type": "code",
   "execution_count": null,
   "metadata": {
    "collapsed": true
   },
   "outputs": [],
   "source": [
    "daily_active_users_dict = {}\n",
    "for date in sorted(collected_dates):\n",
    "    print(date)\n",
    "    daily_df = mentions_df[mentions_df[\"date\"] == date]\n",
    "    daily_active_users_dict[date] = get_active_users(daily_df)\n",
    "    if date == \"2017-06-11\":\n",
    "        break"
   ]
  },
  {
   "cell_type": "markdown",
   "metadata": {},
   "source": [
    "### Note: There was no tennis match on 2017-05-27!"
   ]
  },
  {
   "cell_type": "code",
   "execution_count": null,
   "metadata": {
    "collapsed": true
   },
   "outputs": [],
   "source": [
    "daily_label_dicts = {}\n",
    "for date in sorted(collected_dates):\n",
    "    print(date)\n",
    "    label_dict, daily_actives = {}, daily_active_users_dict[date]\n",
    "    for user_id in daily_actives:\n",
    "        if date == \"2017-05-27\":\n",
    "            label_dict[user_id] = 0\n",
    "        else:\n",
    "            label_dict[user_id] = 1 if (user_id in generated_id_to_player and generated_id_to_player[user_id] in daily_found_player_dict[date]) else 0\n",
    "    daily_label_dicts[date] = label_dict\n",
    "    if date == \"2017-06-11\":\n",
    "        break"
   ]
  },
  {
   "cell_type": "markdown",
   "metadata": {},
   "source": [
    "# 5. Export files"
   ]
  },
  {
   "cell_type": "code",
   "execution_count": null,
   "metadata": {
    "collapsed": true
   },
   "outputs": [],
   "source": [
    "full_path = \"%s/%s\" % (output_prefix, \"tennis_players\")\n",
    "if not os.path.exists(full_path):\n",
    "    os.makedirs(full_path)\n",
    "    print(\"%s folder was created.\" % full_path)"
   ]
  },
  {
   "cell_type": "markdown",
   "metadata": {},
   "source": [
    "## i.) Export daily found players (binary encoding)"
   ]
  },
  {
   "cell_type": "code",
   "execution_count": null,
   "metadata": {
    "collapsed": true
   },
   "outputs": [],
   "source": [
    "i = 0\n",
    "for date in sorted(collected_dates):\n",
    "    scores2file(list(daily_label_dicts[date].items()),\"%s/tennis_players/players_%i.csv\" % (output_prefix, i))\n",
    "    i += 1\n",
    "    if date == \"2017-06-11\":\n",
    "        break"
   ]
  },
  {
   "cell_type": "markdown",
   "metadata": {},
   "source": [
    "## ii.) Export the ids of the found players"
   ]
  },
  {
   "cell_type": "code",
   "execution_count": null,
   "metadata": {
    "collapsed": true
   },
   "outputs": [],
   "source": [
    "with open(\"%s/recoded_player_accounts.txt\" % output_prefix,'w') as f:\n",
    "    for val in generated_id_to_player:\n",
    "        f.write(\"%i\\n\" % val)"
   ]
  }
 ],
 "metadata": {
  "anaconda-cloud": {},
  "kernelspec": {
   "display_name": "Python [default]",
   "language": "python",
   "name": "python3"
  },
  "language_info": {
   "codemirror_mode": {
    "name": "ipython",
    "version": 3
   },
   "file_extension": ".py",
   "mimetype": "text/x-python",
   "name": "python",
   "nbconvert_exporter": "python",
   "pygments_lexer": "ipython3",
   "version": "3.5.3"
  }
 },
 "nbformat": 4,
 "nbformat_minor": 2
}